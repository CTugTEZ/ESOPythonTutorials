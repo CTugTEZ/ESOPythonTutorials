{
 "metadata": {
  "name": "",
  "signature": "sha256:cf5a68d9bf9aa2d08603c8ab54ab3003d08c3ca3092a97171f4506165c808528"
 },
 "nbformat": 3,
 "nbformat_minor": 0,
 "worksheets": [
  {
   "cells": [
    {
     "cell_type": "markdown",
     "metadata": {},
     "source": [
      "Python Tutorials and Demos\n",
      "==========================\n",
      "\n",
      "Plan: Weekly 15-30 minute tutorials and code demonstrations, Mondays at 11 AM in the library.\n",
      "\n",
      "Organizers: Adam Ginsburg and Bernd Huseman\n",
      "\n"
     ]
    },
    {
     "cell_type": "code",
     "collapsed": false,
     "input": [],
     "language": "python",
     "metadata": {},
     "outputs": []
    }
   ],
   "metadata": {}
  }
 ]
}