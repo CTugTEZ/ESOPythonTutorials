{
 "metadata": {
  "name": "",
  "signature": "sha256:5f334bce80eb1bbef058e69a5ce8b9752800fb55924c1fcc05b2dcae2412a7fc"
 },
 "nbformat": 3,
 "nbformat_minor": 0,
 "worksheets": [
  {
   "cells": [
    {
     "cell_type": "markdown",
     "metadata": {},
     "source": [
      "Python Tutorials and Demos\n",
      "==========================\n",
      "\n",
      "Plan: Weekly 15-30 minute python tutorials, code demonstrations, and discussions Mondays at 11 AM in the library.\n",
      "\n",
      "Organizers: Adam Ginsburg and Bernd Husemann\n",
      "\n",
      " * If you would like to give a code demonstration, [e-mail us](mailto:adam.ginsburg@eso.org,bhuseman@eso.org?subject=ESO%20python)\n",
      " * A [google calendar](https://www.google.com/calendar/embed?src=un0sajucehiqa8jb63mrqasgo4%40group.calendar.google.com&ctz=Europe/Berlin) is available\n",
      " * Resources from this group will be made available via a [github repository](https://github.com/ESO-python/ESOPythonTutorials)\n",
      " * Have a request?  Post it as an [issue](https://github.com/ESO-python/ESOPythonTutorials/issues/1)"
     ]
    },
    {
     "cell_type": "markdown",
     "metadata": {},
     "source": [
      "Resources\n",
      "---------\n",
      "\n",
      "If you want to get this notebook, you can find it on a public repository:\n",
      "https://github.com/ESO-python/ESOPythonTutorials\n",
      "\n",
      "It can be viewed directly at \n",
      "http://nbviewer.ipython.org/github/ESO-python/ESOPythonTutorials/master/notebooks/ESOPythonDemoDay1.ipynb\n",
      "(or http://goo.gl/UNnpLF for short)\n",
      "\n",
      "Astropy has very good and detailed documentation:\n",
      "http://www.astropy.org/\n",
      "and a tutorial series (work in progress):\n",
      "http://www.astropy.org/astropy-tutorials/"
     ]
    },
    {
     "cell_type": "markdown",
     "metadata": {},
     "source": [
      "Astropy\n",
      "-------\n",
      "\n",
      "Astropy is a community-led effort to provide basic astronomy-related tools and libraries in python.  It is meant to provide all of the functionality [astrolib](idlastro.gsfc.nasa.gov) once provided for IDL, but much more.\n",
      "\n",
      "Community-developed means you can (and should) [contribute](http://www.astropy.org/contribute.html).  All you need is a free [github account](github.com).\n",
      "\n",
      "The core functionality of astropy includes:\n",
      " * Units and Quantities (astropy.units) and Constants (astropy.constants)\n",
      " * Data Tables (astropy.table)\n",
      " * Astronomical Coordinate Systems (astropy.coordinates)\n",
      " * World Coordinate System (astropy.wcs)\n",
      " * FITS File handling (astropy.io.fits)\n"
     ]
    },
    {
     "cell_type": "markdown",
     "metadata": {},
     "source": [
      "IPython and the IPython Notebook\n",
      "--------------------------------\n",
      "This demonstration is written in an [IPython](http://ipython.org/) [notebook](http://ipython.org/notebook.html).\n",
      "\n",
      "ipython is the best way to work with python for interactive data analysis.  Notebooks are particularly useful for lectures, demonstrations, and day-to-day exploratory work."
     ]
    },
    {
     "cell_type": "markdown",
     "metadata": {},
     "source": [
      "Units\n",
      "=====\n",
      "Astropy has a complete set of unit manipulation tools."
     ]
    },
    {
     "cell_type": "code",
     "collapsed": false,
     "input": [
      "from astropy import units as u\n",
      "from astropy import constants"
     ],
     "language": "python",
     "metadata": {},
     "outputs": [],
     "prompt_number": 1
    },
    {
     "cell_type": "markdown",
     "metadata": {},
     "source": [
      "Any quantity can be assigned a unit by multiplying by the appropriate unit"
     ]
    },
    {
     "cell_type": "code",
     "collapsed": false,
     "input": [
      "x = 6563*u.AA\n",
      "x"
     ],
     "language": "python",
     "metadata": {},
     "outputs": [
      {
       "latex": [
        "$6563 \\; \\mathrm{\\AA}$"
       ],
       "metadata": {},
       "output_type": "pyout",
       "prompt_number": 2,
       "text": [
        "<Quantity 6563.0 Angstrom>"
       ]
      }
     ],
     "prompt_number": 2
    },
    {
     "cell_type": "markdown",
     "metadata": {},
     "source": [
      "Units can be converted to any equivalent unit (i.e., length->length, speed->speed, etc.)"
     ]
    },
    {
     "cell_type": "code",
     "collapsed": false,
     "input": [
      "x.to(u.m)"
     ],
     "language": "python",
     "metadata": {},
     "outputs": [
      {
       "latex": [
        "$6.563\\times 10^{-07} \\; \\mathrm{m}$"
       ],
       "metadata": {},
       "output_type": "pyout",
       "prompt_number": 3,
       "text": [
        "<Quantity 6.563000000000001e-07 m>"
       ]
      }
     ],
     "prompt_number": 3
    },
    {
     "cell_type": "code",
     "collapsed": false,
     "input": [
      "x.to(u.pc)"
     ],
     "language": "python",
     "metadata": {},
     "outputs": [
      {
       "latex": [
        "$2.12692\\times 10^{-23} \\; \\mathrm{pc}$"
       ],
       "metadata": {},
       "output_type": "pyout",
       "prompt_number": 4,
       "text": [
        "<Quantity 2.1269234476790014e-23 pc>"
       ]
      }
     ],
     "prompt_number": 4
    },
    {
     "cell_type": "markdown",
     "metadata": {},
     "source": [
      "They cannot be converted to non-equivalent units..."
     ]
    },
    {
     "cell_type": "raw",
     "metadata": {},
     "source": [
      "x.to(u.THz)"
     ]
    },
    {
     "cell_type": "markdown",
     "metadata": {},
     "source": [
      "...unless the appropriate [equivalencies](http://astropy.readthedocs.org/en/latest/units/equivalencies.html) are specified"
     ]
    },
    {
     "cell_type": "code",
     "collapsed": false,
     "input": [
      "x.to(u.THz, u.spectral())"
     ],
     "language": "python",
     "metadata": {},
     "outputs": [
      {
       "latex": [
        "$456.792 \\; \\mathrm{THz}$"
       ],
       "metadata": {},
       "output_type": "pyout",
       "prompt_number": 5,
       "text": [
        "<Quantity 456.79179948194417 THz>"
       ]
      }
     ],
     "prompt_number": 5
    },
    {
     "cell_type": "markdown",
     "metadata": {},
     "source": [
      "More complicated equivalencies, such as doppler shift (redshift) are possible.  They are tied to particular reference values, though:"
     ]
    },
    {
     "cell_type": "code",
     "collapsed": false,
     "input": [
      "x = 6582*u.AA\n",
      "ha_rest = 6562.8*u.AA\n",
      "x.to(u.km/u.s, u.doppler_optical(ha_rest))"
     ],
     "language": "python",
     "metadata": {},
     "outputs": [
      {
       "latex": [
        "$877.067 \\; \\mathrm{\\frac{km}{s}}$"
       ],
       "metadata": {},
       "output_type": "pyout",
       "prompt_number": 6,
       "text": [
        "<Quantity 877.0669826293542 km / s>"
       ]
      }
     ],
     "prompt_number": 6
    },
    {
     "cell_type": "markdown",
     "metadata": {},
     "source": [
      "Arrays can also be given units"
     ]
    },
    {
     "cell_type": "code",
     "collapsed": false,
     "input": [
      "frequencies = np.linspace(1,2,50)*u.GHz\n",
      "fluxes = np.random.randn(50)*u.Jy"
     ],
     "language": "python",
     "metadata": {},
     "outputs": [],
     "prompt_number": 7
    },
    {
     "cell_type": "code",
     "collapsed": false,
     "input": [
      "import pylab as pl\n",
      "pl.plot(frequencies, fluxes, drawstyle='steps-mid')\n",
      "pl.xlabel(\"{0} ({1})\".format(frequencies.unit.physical_type, frequencies.unit.to_string()))\n",
      "pl.ylabel(\"{0} ({1})\".format(fluxes.unit.physical_type, fluxes.unit.to_string()))"
     ],
     "language": "python",
     "metadata": {},
     "outputs": [
      {
       "metadata": {},
       "output_type": "pyout",
       "prompt_number": 8,
       "text": [
        "<matplotlib.text.Text at 0x10879f990>"
       ]
      },
      {
       "metadata": {},
       "output_type": "display_data",
       "png": "[encoded data removed]",
       "text": [
        "<matplotlib.figure.Figure at 0x10879b810>"
       ]
      }
     ],
     "prompt_number": 8
    },
    {
     "cell_type": "markdown",
     "metadata": {},
     "source": [
      "Coordinates\n",
      "===========\n",
      "Conversion between fk5 and Galactic coordinates (and any other system) is straightforward with astropy."
     ]
    },
    {
     "cell_type": "code",
     "collapsed": false,
     "input": [
      "from astropy import coordinates"
     ],
     "language": "python",
     "metadata": {},
     "outputs": [],
     "prompt_number": 9
    },
    {
     "cell_type": "code",
     "collapsed": false,
     "input": [
      "# Query the SESAME service to get the coordinates\n",
      "m31_fk5 = coordinates.FK5.from_name('M31')"
     ],
     "language": "python",
     "metadata": {},
     "outputs": [],
     "prompt_number": 10
    },
    {
     "cell_type": "code",
     "collapsed": false,
     "input": [
      "m31_fk5"
     ],
     "language": "python",
     "metadata": {},
     "outputs": [
      {
       "metadata": {},
       "output_type": "pyout",
       "prompt_number": 11,
       "text": [
        "<FK5 RA=10.68472 deg, Dec=41.26875 deg>"
       ]
      }
     ],
     "prompt_number": 11
    },
    {
     "cell_type": "code",
     "collapsed": false,
     "input": [
      "m31_fk5.galactic"
     ],
     "language": "python",
     "metadata": {},
     "outputs": [
      {
       "metadata": {},
       "output_type": "pyout",
       "prompt_number": 12,
       "text": [
        "<Galactic l=121.17439 deg, b=-21.57322 deg>"
       ]
      }
     ],
     "prompt_number": 12
    },
    {
     "cell_type": "code",
     "collapsed": false,
     "input": [
      "m31_fk5.fk4"
     ],
     "language": "python",
     "metadata": {},
     "outputs": [
      {
       "metadata": {},
       "output_type": "pyout",
       "prompt_number": 13,
       "text": [
        "<FK4 RA=10.00037 deg, Dec=40.99498 deg>"
       ]
      }
     ],
     "prompt_number": 13
    },
    {
     "cell_type": "markdown",
     "metadata": {},
     "source": [
      "Coordinates also work with arrays"
     ]
    },
    {
     "cell_type": "code",
     "collapsed": false,
     "input": [
      "ra = [17.5,17.6,17.7,17.8] * u.hour\n",
      "dec = [-29.2,-29.3,-29.4,-29.5] * u.deg\n",
      "c = coordinates.FK5(ra,dec)"
     ],
     "language": "python",
     "metadata": {},
     "outputs": [],
     "prompt_number": 14
    },
    {
     "cell_type": "code",
     "collapsed": false,
     "input": [
      "c, c.galactic"
     ],
     "language": "python",
     "metadata": {},
     "outputs": [
      {
       "metadata": {},
       "output_type": "pyout",
       "prompt_number": 15,
       "text": [
        "(<FK5 RA=[ 262.5  264.   265.5  267. ] deg, Dec=[-29.2 -29.3 -29.4 -29.5] deg>,\n",
        " <Galactic l=[ 357.94945306  358.57821343  359.19077086  359.78751897] deg, b=[ 2.74153754  1.58913794  0.42968231 -0.73650041] deg>)"
       ]
      }
     ],
     "prompt_number": 15
    },
    {
     "cell_type": "code",
     "collapsed": false,
     "input": [
      "lmc = coordinates.FK5.from_name('LMC')\n",
      "smc = coordinates.FK5.from_name('SMC')\n",
      "m33 = coordinates.FK5.from_name('M33')"
     ],
     "language": "python",
     "metadata": {},
     "outputs": [],
     "prompt_number": 16
    },
    {
     "cell_type": "code",
     "collapsed": false,
     "input": [
      "fig = pl.figure(figsize=(8,6))\n",
      "ax = fig.add_subplot(111, projection=\"mollweide\")\n",
      "ax.scatter(c.galactic.l.radian-2*np.pi, c.galactic.b.radian, color='k')\n",
      "ax.scatter(m31_fk5.galactic.l.radian, m31_fk5.galactic.b.radian, color='orange')\n",
      "ax.scatter(m33.galactic.l.radian, m33.galactic.b.radian, color='r')\n",
      "ax.scatter(lmc.galactic.l.radian-2*np.pi, lmc.galactic.b.radian, color='b')\n",
      "ax.scatter(smc.galactic.l.radian-2*np.pi, smc.galactic.b.radian, color='m')"
     ],
     "language": "python",
     "metadata": {},
     "outputs": [
      {
       "metadata": {},
       "output_type": "pyout",
       "prompt_number": 17,
       "text": [
        "<matplotlib.collections.PathCollection at 0x108bbd310>"
       ]
      },
      {
       "output_type": "stream",
       "stream": "stderr",
       "text": [
        "/Users/adam/virtual-python/lib/python2.7/site-packages/matplotlib-1.4.x-py2.7-macosx-10.6-intel.egg/matplotlib/projections/geo.py:489: RuntimeWarning: invalid value encountered in arcsin\n",
        "  theta = np.arcsin(y / np.sqrt(2))\n"
       ]
      },
      {
       "metadata": {},
       "output_type": "display_data",
       "png": "[encoded data removed]",
       "text": [
        "<matplotlib.figure.Figure at 0x108783490>"
       ]
      }
     ],
     "prompt_number": 17
    },
    {
     "cell_type": "markdown",
     "metadata": {},
     "source": [
      "Questions and requests?"
     ]
    }
   ],
   "metadata": {}
  }
 ]
}