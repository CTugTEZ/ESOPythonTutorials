{
 "metadata": {
  "name": "",
  "signature": "sha256:f1346496d3cb338b76ce07cd5cb88e8f45f57338ae33ed64a786ff809626cb77"
 },
 "nbformat": 3,
 "nbformat_minor": 0,
 "worksheets": [
  {
   "cells": [
    {
     "cell_type": "markdown",
     "metadata": {},
     "source": [
      "Python Tutorials and Demos\n",
      "==========================\n",
      "\n",
      "Plan: Weekly 15-30 minute tutorials and code demonstrations, Mondays at 11 AM in the library.\n",
      "\n",
      "Organizers: Adam Ginsburg and Bernd Husemann\n",
      "\n"
     ]
    },
    {
     "cell_type": "markdown",
     "metadata": {},
     "source": [
      "Resources\n",
      "---------\n",
      "\n",
      "If you want to get this notebook, you can find it on a public repository:\n",
      "https://github.com/ESO-python/ESOPythonTutorials\n",
      "\n",
      "It can be viewed directly at \n",
      "http://nbviewer.ipython.org/github/ESO-python/ESOPythonTutorials/master/notebooks/ESOPythonDemoDay1.ipynb\n",
      "\n",
      "Astropy has very good and detailed documentation:\n",
      "http://www.astropy.org/\n",
      "and a tutorial series (work in progress):\n",
      "http://www.astropy.org/astropy-tutorials/"
     ]
    },
    {
     "cell_type": "markdown",
     "metadata": {},
     "source": [
      "Astropy\n",
      "-------\n",
      "\n",
      "Astropy is a community-led effort to provide basic astronomy-related tools and libraries in python.  It is meant to provide all of the functionality [astrolib](idlastro.gsfc.nasa.gov) once provided for IDL, but much more.\n",
      "\n",
      "The core functionality of astropy is primarily:\n",
      " * Units and Quantities (astropy.units) and Constants (astropy.constants)\n",
      " * Data Tables (astropy.table)\n",
      " * Astronomical Coordinate Systems (astropy.coordinates)\n",
      " * World Coordinate System (astropy.wcs)\n",
      " * FITS File handling (astropy.io.fits)\n"
     ]
    },
    {
     "cell_type": "markdown",
     "metadata": {},
     "source": [
      "IPython and the IPython Notebook\n",
      "--------------------------------\n",
      "This demonstration is written in an [IPython](http://ipython.org/) [notebook](http://ipython.org/notebook.html).\n",
      "\n",
      "ipython is the best way to work with python for interactive data analysis.  Notebooks are particularly useful for lectures, demonstrations, and day-to-day exploratory work."
     ]
    },
    {
     "cell_type": "markdown",
     "metadata": {},
     "source": [
      "Units\n",
      "=====\n",
      "Astropy has a complete set of unit manipulation tools."
     ]
    },
    {
     "cell_type": "code",
     "collapsed": false,
     "input": [
      "from astropy import units as u\n",
      "from astropy import constants"
     ],
     "language": "python",
     "metadata": {},
     "outputs": [],
     "prompt_number": 3
    },
    {
     "cell_type": "code",
     "collapsed": false,
     "input": [
      "x = 5*u.AA\n",
      "x"
     ],
     "language": "python",
     "metadata": {},
     "outputs": [
      {
       "latex": [
        "$5 \\; \\mathrm{\\AA}$"
       ],
       "metadata": {},
       "output_type": "pyout",
       "prompt_number": 8,
       "text": [
        "<Quantity 5.0 Angstrom>"
       ]
      }
     ],
     "prompt_number": 8
    },
    {
     "cell_type": "code",
     "collapsed": false,
     "input": [
      "x.to(u.m)"
     ],
     "language": "python",
     "metadata": {},
     "outputs": [
      {
       "latex": [
        "$5\\times 10^{-10} \\; \\mathrm{m}$"
       ],
       "metadata": {},
       "output_type": "pyout",
       "prompt_number": 7,
       "text": [
        "<Quantity 5.000000000000001e-10 m>"
       ]
      }
     ],
     "prompt_number": 7
    },
    {
     "cell_type": "code",
     "collapsed": false,
     "input": [],
     "language": "python",
     "metadata": {},
     "outputs": []
    }
   ],
   "metadata": {}
  }
 ]
}