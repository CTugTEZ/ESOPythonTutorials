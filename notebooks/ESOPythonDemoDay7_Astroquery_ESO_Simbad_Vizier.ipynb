{
 "metadata": {
  "name": "",
  "signature": "sha256:b21490c4edfd995357029c5bc4c0eb75f7f1212eb79b9b876794034ce6649f36"
 },
 "nbformat": 3,
 "nbformat_minor": 0,
 "worksheets": [
  {
   "cells": [
    {
     "cell_type": "code",
     "collapsed": false,
     "input": [
      "import warnings\n",
      "warnings.filterwarnings('ignore',message='profile')"
     ],
     "language": "python",
     "metadata": {},
     "outputs": [],
     "prompt_number": 1
    },
    {
     "cell_type": "markdown",
     "metadata": {},
     "source": [
      "## Astroquery ##\n",
      "\n",
      "[Astroquery](http://astroquery.readthedocs.org) is a set of related tools for querying different astronomical database services,  e.g. SIMBAD, VizieR, and IRSA-IPAC, and for retrieving data from archives, e.g. the ESO, IRSA, and NRAO archives.  It also includes tools for querying other astronomy-related databases such as line-list servers at NIST (primarily for optical/NIR electronic transitions) and Splatalogue for mm/radio molecular transitions."
     ]
    },
    {
     "cell_type": "markdown",
     "metadata": {},
     "source": [
      "### The layout ### \n",
      "\n",
      "Each astroquery tool includes a `query` method, or a set of `query_*` methods, depending on the capabilities the service offers.\n",
      "\n",
      "For example, SIMBAD supports queries by source name (`query_object`) and by region (`query_region`).  The returned values are always [astropy tables](docs.astropy.org/en/latest/tables/)"
     ]
    },
    {
     "cell_type": "code",
     "collapsed": false,
     "input": [
      "from astroquery.simbad import Simbad\n",
      "from astropy import coordinates\n",
      "from astropy import units as u"
     ],
     "language": "python",
     "metadata": {},
     "outputs": [
      {
       "output_type": "stream",
       "stream": "stderr",
       "text": [
        "WARNING: ConfigurationDefaultMissingWarning: Could not determine version of package astroquery Cannot install default profile. If you are importing from source, this is expected. [astroquery._astropy_init]\n",
        "WARNING:astropy:ConfigurationDefaultMissingWarning: Could not determine version of package astroquery Cannot install default profile. If you are importing from source, this is expected.\n"
       ]
      },
      {
       "output_type": "stream",
       "stream": "stderr",
       "text": [
        "WARNING: AstropyDeprecationWarning: ConfigurationItem has been deprecated in astropy 0.4. Use ConfigItem objects as members of ConfigNamespace subclasses instead.  See ConfigNamespace for an example. [astropy.config.configuration]\n",
        "WARNING:astropy:AstropyDeprecationWarning: ConfigurationItem has been deprecated in astropy 0.4. Use ConfigItem objects as members of ConfigNamespace subclasses instead.  See ConfigNamespace for an example.\n"
       ]
      }
     ],
     "prompt_number": 2
    },
    {
     "cell_type": "code",
     "collapsed": false,
     "input": [
      "result1 = Simbad.query_object('M31')\n",
      "result1"
     ],
     "language": "python",
     "metadata": {},
     "outputs": [
      {
       "output_type": "stream",
       "stream": "stderr",
       "text": [
        "/Users/adam/repos/astroquery/astroquery/simbad/core.py:791: UserWarning: Warning: The script line number 3 raised an error (recorded in the `errors` attribute of the result table): java.lang.StringIndexOutOfBoundsException: String index out of range: -1\n",
        "  (error.line, error.msg))\n"
       ]
      },
      {
       "html": [
        "<table id=\"table4440875984\"><thead><tr><th>MAIN_ID</th><th>RA</th><th>DEC</th><th>RA_PREC</th><th>DEC_PREC</th><th>COO_ERR_MAJA</th><th>COO_ERR_MINA</th><th>COO_ERR_ANGLE</th><th>COO_QUAL</th><th>COO_WAVELENGTH</th><th>COO_BIBCODE</th></tr></thead><thead><tr><th></th><th>&quot;h:m:s&quot;</th><th>&quot;d:m:s&quot;</th><th></th><th></th><th>mas</th><th>mas</th><th>deg</th><th></th><th></th><th></th></tr></thead></table>"
       ],
       "metadata": {},
       "output_type": "pyout",
       "prompt_number": 3,
       "text": [
        "<Table rows=0 names=('MAIN_ID','RA','DEC','RA_PREC','DEC_PREC','COO_ERR_MAJA','COO_ERR_MINA','COO_ERR_ANGLE','COO_QUAL','COO_WAVELENGTH','COO_BIBCODE') units=(None,'\"h:m:s\"','\"d:m:s\"',None,None,'mas','mas','deg',None,None,None)>\n",
        "masked_array(data = [],\n",
        "             mask = [],\n",
        "       fill_value = ('?', 'N/A', 'N/A', 16959, 16959, 1.0000000200408773e+20, 1.0000000200408773e+20, 16959, 'N', 'N', '?'),\n",
        "            dtype = [('MAIN_ID', 'O'), ('RA', 'S13'), ('DEC', 'S13'), ('RA_PREC', '<i2'), ('DEC_PREC', '<i2'), ('COO_ERR_MAJA', '<f4'), ('COO_ERR_MINA', '<f4'), ('COO_ERR_ANGLE', '<i2'), ('COO_QUAL', 'S1'), ('COO_WAVELENGTH', 'S1'), ('COO_BIBCODE', 'O')])"
       ]
      }
     ],
     "prompt_number": 3
    },
    {
     "cell_type": "code",
     "collapsed": false,
     "input": [
      "result2 = Simbad.query_region(\"05h35m17.3s -05h23m28s\", radius=1*u.arcmin)\n",
      "result2"
     ],
     "language": "python",
     "metadata": {},
     "outputs": [
      {
       "output_type": "stream",
       "stream": "stderr",
       "text": [
        "/Users/adam/repos/astroquery/astroquery/utils/commons.py:197: UserWarning: Coordinate string is being interpreted as an ICRS coordinate.\n",
        "  warnings.warn(\"Coordinate string is being interpreted as an ICRS coordinate.\")\n",
        "WARNING: AstropyDeprecationWarning: \n",
        "        Use to_string instead. [astropy.utils.misc]\n",
        "WARNING:astropy:AstropyDeprecationWarning: \n",
        "        Use to_string instead.\n"
       ]
      },
      {
       "output_type": "stream",
       "stream": "stderr",
       "text": [
        "WARNING: AstropyDeprecationWarning: \n",
        "        Use to_string instead. [astropy.utils.misc]\n",
        "WARNING:astropy:AstropyDeprecationWarning: \n",
        "        Use to_string instead.\n"
       ]
      },
      {
       "output_type": "stream",
       "stream": "stderr",
       "text": [
        "/Users/adam/repos/astroquery/astroquery/simbad/core.py:791: UserWarning: Warning: The script line number 3 raised an error (recorded in the `errors` attribute of the result table): '5:35:17.30000 -80:52:00.00000': No astronomical object found :\n",
        "  (error.line, error.msg))\n"
       ]
      },
      {
       "html": [
        "<table id=\"table4440791056\"><thead><tr><th>MAIN_ID</th><th>RA</th><th>DEC</th><th>RA_PREC</th><th>DEC_PREC</th><th>COO_ERR_MAJA</th><th>COO_ERR_MINA</th><th>COO_ERR_ANGLE</th><th>COO_QUAL</th><th>COO_WAVELENGTH</th><th>COO_BIBCODE</th></tr></thead><thead><tr><th></th><th>&quot;h:m:s&quot;</th><th>&quot;d:m:s&quot;</th><th></th><th></th><th>mas</th><th>mas</th><th>deg</th><th></th><th></th><th></th></tr></thead></table>"
       ],
       "metadata": {},
       "output_type": "pyout",
       "prompt_number": 4,
       "text": [
        "<Table rows=0 names=('MAIN_ID','RA','DEC','RA_PREC','DEC_PREC','COO_ERR_MAJA','COO_ERR_MINA','COO_ERR_ANGLE','COO_QUAL','COO_WAVELENGTH','COO_BIBCODE') units=(None,'\"h:m:s\"','\"d:m:s\"',None,None,'mas','mas','deg',None,None,None)>\n",
        "masked_array(data = [],\n",
        "             mask = [],\n",
        "       fill_value = ('?', 'N/A', 'N/A', 16959, 16959, 1.0000000200408773e+20, 1.0000000200408773e+20, 16959, 'N', 'N', '?'),\n",
        "            dtype = [('MAIN_ID', 'O'), ('RA', 'S13'), ('DEC', 'S13'), ('RA_PREC', '<i2'), ('DEC_PREC', '<i2'), ('COO_ERR_MAJA', '<f4'), ('COO_ERR_MINA', '<f4'), ('COO_ERR_ANGLE', '<i2'), ('COO_QUAL', 'S1'), ('COO_WAVELENGTH', 'S1'), ('COO_BIBCODE', 'O')])"
       ]
      }
     ],
     "prompt_number": 4
    },
    {
     "cell_type": "code",
     "collapsed": false,
     "input": [
      "co = coordinates.SkyCoord(l=31.0087, b=14.0627,\n",
      "                          unit=(u.deg, u.deg),\n",
      "                          frame='galactic')\n",
      "result3 = Simbad.query_region(co)\n",
      "result3"
     ],
     "language": "python",
     "metadata": {},
     "outputs": [
      {
       "output_type": "stream",
       "stream": "stderr",
       "text": [
        "/Users/adam/anaconda/envs/astropy27/lib/python2.7/site-packages/numpy/ma/core.py:3847: UserWarning: Warning: converting a masked element to nan.\n",
        "  warnings.warn(\"Warning: converting a masked element to nan.\")\n"
       ]
      },
      {
       "html": [
        "<table id=\"table4299376784\"><thead><tr><th>MAIN_ID</th><th>RA</th><th>DEC</th><th>RA_PREC</th><th>DEC_PREC</th><th>COO_ERR_MAJA</th><th>COO_ERR_MINA</th><th>COO_ERR_ANGLE</th><th>COO_QUAL</th><th>COO_WAVELENGTH</th><th>COO_BIBCODE</th></tr></thead><thead><tr><th></th><th>&quot;h:m:s&quot;</th><th>&quot;d:m:s&quot;</th><th></th><th></th><th>mas</th><th>mas</th><th>deg</th><th></th><th></th><th></th></tr></thead><tr><td>NAME Barnard&apos;s star</td><td>17 57 48.4980</td><td>+04 41 36.207</td><td>9</td><td>9</td><td>15.100</td><td>10.720</td><td>0</td><td>A</td><td>O</td><td>2007A&amp;A...474..653V</td></tr><tr><td>TYC  425-262-1</td><td>17 57 51.948</td><td>+04 42 20.25</td><td>7</td><td>7</td><td>66.000</td><td>58.000</td><td>0</td><td>B</td><td>O</td><td>2000A&amp;A...355L..27H</td></tr><tr><td>1RXS J175749.5+043955</td><td>17 57 49.505</td><td>+04 39 55.01</td><td>7</td><td>7</td><td>nan</td><td>nan</td><td>0</td><td>D</td><td></td><td></td></tr></table>"
       ],
       "metadata": {},
       "output_type": "pyout",
       "prompt_number": 5,
       "text": [
        "<Table rows=3 names=('MAIN_ID','RA','DEC','RA_PREC','DEC_PREC','COO_ERR_MAJA','COO_ERR_MINA','COO_ERR_ANGLE','COO_QUAL','COO_WAVELENGTH','COO_BIBCODE') units=(None,'\"h:m:s\"','\"d:m:s\"',None,None,'mas','mas','deg',None,None,None)>\n",
        "masked_array(data = [ (\"NAME Barnard's star\", '17 57 48.4980', '+04 41 36.207', 9, 9, 15.100000381469727, 10.720000267028809, 0, 'A', 'O', '2007A&A...474..653V')\n",
        " ('TYC  425-262-1', '17 57 51.948', '+04 42 20.25', 7, 7, 66.0, 58.0, 0, 'B', 'O', '2000A&A...355L..27H')\n",
        " ('1RXS J175749.5+043955', '17 57 49.505', '+04 39 55.01', 7, 7, --, --, 0, 'D', '', '')],\n",
        "             mask = [ (False, False, False, False, False, False, False, False, False, False, False)\n",
        " (False, False, False, False, False, False, False, False, False, False, False)\n",
        " (False, False, False, False, False, True, True, False, False, False, False)],\n",
        "       fill_value = ('?', 'N/A', 'N/A', 16959, 16959, 1.0000000200408773e+20, 1.0000000200408773e+20, 16959, 'N', 'N', '?'),\n",
        "            dtype = [('MAIN_ID', 'O'), ('RA', 'S13'), ('DEC', 'S13'), ('RA_PREC', '<i2'), ('DEC_PREC', '<i2'), ('COO_ERR_MAJA', '<f4'), ('COO_ERR_MINA', '<f4'), ('COO_ERR_ANGLE', '<i2'), ('COO_QUAL', 'S1'), ('COO_WAVELENGTH', 'S1'), ('COO_BIBCODE', 'O')])"
       ]
      }
     ],
     "prompt_number": 5
    },
    {
     "cell_type": "markdown",
     "metadata": {},
     "source": [
      "There are also other query tools for some services, e.g. SIMBAD has a `query_catalog` feature that allows you to query named catalogs, e.g. the NGC catalog or the ESO catalog"
     ]
    },
    {
     "cell_type": "raw",
     "metadata": {},
     "source": [
      "esocat = Simbad.query_catalog('eso')\n",
      "esocat"
     ]
    },
    {
     "cell_type": "raw",
     "metadata": {},
     "source": [
      "ngccat = Simbad.query_catalog('ngc')\n",
      "ngccat"
     ]
    },
    {
     "cell_type": "markdown",
     "metadata": {},
     "source": [
      "In SIMBAD, you can also query a publication to find the sources"
     ]
    },
    {
     "cell_type": "raw",
     "metadata": {},
     "source": [
      "gins2012 = Simbad.query_bibcode('2012ApJ...758L..29G')\n",
      "gins2012"
     ]
    },
    {
     "cell_type": "markdown",
     "metadata": {},
     "source": [
      "Finally, you can modify the default parameters of the query tool, such as the `TIMEOUT` (the maximum wait time before deciding the query has failed) and the `ROW_LIMIT` (the maximum number of entries returned) by creating a new object.  You can also tell SIMBAD to return additional information, e.g. the number of citations for each object."
     ]
    },
    {
     "cell_type": "raw",
     "metadata": {},
     "source": [
      "customSimbad = Simbad()\n",
      "customSimbad.ROW_LIMIT = 100\n",
      "customSimbad.add_votable_fields('bibcodelist(1800-2014)')\n",
      "gins2012b = customSimbad.query_bibcode('2012ApJ...758L..29G')\n",
      "gins2012b"
     ]
    },
    {
     "cell_type": "markdown",
     "metadata": {},
     "source": [
      "# Archive Query Services #\n",
      "There are archive query services that return data in addition to catalogs. ESO is among these."
     ]
    },
    {
     "cell_type": "markdown",
     "metadata": {},
     "source": [
      "###ESO###\n",
      "\n",
      "The ESO service has the following methods:\n",
      "\n",
      " * `list_instruments` to list the available instruments that can be queried\n",
      " * `list_surveys` lists the available large public surveys\n",
      " * `query_instrument` queries for data sets from a specific instrument\n",
      " * `query_surveys` does the same for surveys\n",
      " * `get_headers` gets header information for any datasets listed from a previous query\n",
      " * `login` logs you in with your username, which is *required* for *any* data retrieval (even public data)\n",
      " * `retrieve_datasets` or (deprecated) `data_retrieval` allows you to stage *and* download any data set your username is allowed to access\n",
      " \n",
      "Queries are cached, so repeating them should be fast.  Downloaded data is also cached to the `Eso.cache_location`"
     ]
    },
    {
     "cell_type": "code",
     "collapsed": false,
     "input": [
      "from astroquery.eso import Eso"
     ],
     "language": "python",
     "metadata": {},
     "outputs": [],
     "prompt_number": 6
    },
    {
     "cell_type": "code",
     "collapsed": false,
     "input": [
      "Eso.list_instruments()"
     ],
     "language": "python",
     "metadata": {},
     "outputs": [
      {
       "metadata": {},
       "output_type": "pyout",
       "prompt_number": 7,
       "text": [
        "[u'fors1',\n",
        " u'fors2',\n",
        " u'vimos',\n",
        " u'omegacam',\n",
        " u'hawki',\n",
        " u'isaac',\n",
        " u'naco',\n",
        " u'visir',\n",
        " u'vircam',\n",
        " u'apex',\n",
        " u'uves',\n",
        " u'giraffe',\n",
        " u'xshooter',\n",
        " u'crires',\n",
        " u'kmos',\n",
        " u'sinfoni',\n",
        " u'amber',\n",
        " u'midi']"
       ]
      }
     ],
     "prompt_number": 7
    },
    {
     "cell_type": "markdown",
     "metadata": {},
     "source": [
      "In order to figure out how to construct a query, you can open the form directly"
     ]
    },
    {
     "cell_type": "code",
     "collapsed": false,
     "input": [
      "Eso.query_instrument('kmos', open_form=True)"
     ],
     "language": "python",
     "metadata": {},
     "outputs": [],
     "prompt_number": 8
    },
    {
     "cell_type": "markdown",
     "metadata": {},
     "source": [
      "or use the ``help`` keyword.  The printout will then show what keywords correspond to each form name.  For example, the keyword ``pi_coi`` corresponds to the form box ``PI/CoI Name``."
     ]
    },
    {
     "cell_type": "code",
     "collapsed": false,
     "input": [
      "Eso.query_instrument('kmos', help=True)"
     ],
     "language": "python",
     "metadata": {},
     "outputs": [
      {
       "output_type": "stream",
       "stream": "stdout",
       "text": [
        "List of the column_filters parameters accepted by the kmos instrument query.\n",
        "The presence of a column in the result table can be controlled if prefixed with a [ ] checkbox.\n",
        "The default columns in the result table are shown as already ticked: [x].\n",
        "\n",
        "Target Information\n",
        "------------------"
       ]
      },
      {
       "output_type": "stream",
       "stream": "stdout",
       "text": [
        "\n",
        "    target: \n",
        "    resolver: simbad (SIMBAD name), ned (NED name), none (OBJECT as specified by the observer)\n",
        "    coord_sys: eq (Equatorial (FK5)), gal (Galactic)\n",
        "    coord1: \n",
        "    coord2: \n",
        "    box: \n",
        "    format: sexagesimal (Sexagesimal), decimal (Decimal)\n",
        "[x] wdb_input_file: \n",
        "\n",
        "Observation  and proposal parameters\n",
        "------------------------------------\n",
        "[ ] night: \n",
        "    stime: \n",
        "    starttime: 01 (01 hrs [UT]), 02 (02 hrs [UT]), 03 (03 hrs [UT]), 04 (04 hrs [UT]), 05 (05 hrs [UT]), 06 (06 hrs [UT]), 07 (07 hrs [UT]), 08 (08 hrs [UT]), 09 (09 hrs [UT]), 10 (10 hrs [UT]), 11 (11 hrs [UT]), 12 (12 hrs [UT]), 13 (13 hrs [UT]), 14 (14 hrs [UT]), 15 (15 hrs [UT]), 16 (16 hrs [UT]), 17 (17 hrs [UT]), 18 (18 hrs [UT]), 19 (19 hrs [UT]), 20 (20 hrs [UT]), 21 (21 hrs [UT]), 22 (22 hrs [UT]), 23 (23 hrs [UT]), 24 (24 hrs [UT])\n",
        "    etime: \n",
        "    endtime: 01 (01 hrs [UT]), 02 (02 hrs [UT]), 03 (03 hrs [UT]), 04 (04 hrs [UT]), 05 (05 hrs [UT]), 06 (06 hrs [UT]), 07 (07 hrs [UT]), 08 (08 hrs [UT]), 09 (09 hrs [UT]), 10 (10 hrs [UT]), 11 (11 hrs [UT]), 12 (12 hrs [UT]), 13 (13 hrs [UT]), 14 (14 hrs [UT]), 15 (15 hrs [UT]), 16 (16 hrs [UT]), 17 (17 hrs [UT]), 18 (18 hrs [UT]), 19 (19 hrs [UT]), 20 (20 hrs [UT]), 21 (21 hrs [UT]), 22 (22 hrs [UT]), 23 (23 hrs [UT]), 24 (24 hrs [UT])\n",
        "[x] prog_id: \n",
        "[ ] prog_type: % (Any), 0 (Normal), 1 (GTO), 2 (DDT), 3 (ToO), 4 (Large), 5 (Short), 6 (Calibration)\n",
        "[ ] obs_mode: % (All modes), s (Service), v (Visitor)\n",
        "[ ] pi_coi: \n",
        "    pi_coi_name: PI_only (as PI only), none (as PI or CoI)\n",
        "[ ] prog_title: \n",
        "\n",
        "Generic File Information\n",
        "------------------------\n",
        "[x] dp_id: \n",
        "[x] ob_id: \n",
        "[x] obs_targ_name: \n",
        "[x] exptime: \n",
        "[x] dp_cat: % (Any), ACQUISITION (ACQUISITION), CALIB (CALIB), SCIENCE (SCIENCE)\n",
        "[x] dp_type: % (Any), DARK% (DARK), FLAT% (any FLAT), FLAT_LAMP% (FLAT_LAMP), FLAT_OFF% (FLAT_OFF), FLAT_SKY% (FLAT_SKY), OBJECT% (any OBJECT), OBJECT_LOOKUP% (OBJECT_LOOKUP), OBJECT_SKY% (OBJECT_SKY), OBJECT_SKY_STD_FLUX% (OBJECT_SKY_STD_FLUX), SKY% (SKY), WAVE% (any WAVE), WAVE_LAMP% (WAVE_LAMP), WAVE_OFF% (WAVE_OFF)\n",
        "[x] dp_tech: % (Any), IFU% (IFU), IMAGE% (IMAGE), SPECTRUM% (SPECTRUM)\n",
        "\n",
        "Specific Instrument Information\n",
        "-------------------------------\n",
        "[x] ins_grat1_name: % (Any), IZ% (IZ), YJ% (YJ), H% (H), K% (K), HK% (HK)\n",
        "[x] ins_filt1_name: % (Any), IZ% (IZ), YJ% (YJ), H% (H), K% (K), HK% (HK)\n",
        "[x] ins_lamp1_name: \n",
        "[x] ins_lamp2_name: \n",
        "[x] ins_lamp3_name: \n",
        "[x] det_seq1_dit: \n",
        "[x] det_ndit: \n",
        "\n",
        "Ambient Parameters\n",
        "------------------\n",
        "[x] fwhm_avg: \n",
        "[ ] airmass_range: \n",
        "[ ] night_flag: % (Any), 0 (Night), 1 (Twilight), 2 (Daytime)\n",
        "[ ] moon_illu: \n",
        "\n",
        "Result set\n",
        "----------\n",
        "    order:  (nothing (faster)), dp_id (Observation Time), dp_cat (DPR.CATG), dp_tech (DPR.TECH), tpl_start (TPL.START)\n"
       ]
      }
     ],
     "prompt_number": 9
    },
    {
     "cell_type": "code",
     "collapsed": false,
     "input": [
      "result = Eso.query_instrument('xshooter', pi_coi='manara')\n",
      "result"
     ],
     "language": "python",
     "metadata": {},
     "outputs": [
      {
       "output_type": "stream",
       "stream": "stderr",
       "text": [
        "/Users/adam/repos/astroquery/astroquery/eso/core.py:356: UserWarning: Query returned no results\n",
        "  warnings.warn(\"Query returned no results\")\n"
       ]
      },
      {
       "html": [
        "<table id=\"table4489646032\"><thead><tr><th>Object</th><th>Target Ra Dec</th><th>Target l b</th><th>ProgId</th><th>DP.ID</th><th>OB.ID</th><th>OBS.TARG.NAME</th><th>EXPTIME</th><th>DPR.CATG</th><th>DPR.TYPE</th><th>DPR.TECH</th><th>INS MODE</th><th>SEQ.ARM</th><th>DET.READ.CLOCK</th><th>INS.FILT1.NAME</th><th>INS.OPTI2.NAME</th><th>INS.OPTI3.NAME</th><th>INS.OPTI4.NAME</th><th>INS.OPTI5.NAME</th><th>DIMM S-avg</th></tr></thead><tr><td>OBJECT</td><td>05:35:21.04 -05:31:21.2</td><td>209.145487 -19.427161</td><td>288.C-5038(A)</td><td>XSHOO.2012-02-26T02:41:35.429</td><td>729629</td><td>OM-1186</td><td>5.0</td><td>ACQUISITION</td><td>OBJECT</td><td>IMAGE</td><td>IMAG</td><td>--</td><td>acetecE2V57I_ENG.clk</td><td>V</td><td>MIR</td><td>5.0x11</td><td>5.0x11</td><td>5.0x11</td><td>1.08 [0.29]</td></tr><tr><td>LAMP,AFC</td><td>05:35:20.98 -05:31:21.5</td><td>209.145458 -19.427436</td><td>288.C-5038(A)</td><td>XSHOO.2012-02-26T02:38:24.054</td><td>729629</td><td>OM-1186</td><td>1.0</td><td>CALIB</td><td>LAMP,AFC</td><td>ECHELLE</td><td>CALIB</td><td>NIR</td><td>--</td><td>V</td><td>PIN</td><td>5.0x11</td><td>5.0x11</td><td>5.0x11</td><td>1.15 [0.43]</td></tr><tr><td>LAMP,AFC</td><td>05:35:20.98 -05:31:21.5</td><td>209.145458 -19.427436</td><td>288.C-5038(A)</td><td>XSHOO.2012-02-26T02:37:50.587</td><td>729629</td><td>OM-1186</td><td>10.0</td><td>CALIB</td><td>LAMP,AFC</td><td>ECHELLE</td><td>CALIB</td><td>UVB</td><td>400k/1pt/lg/AFC</td><td>V</td><td>SLOT</td><td>Pin_0.5</td><td>Pin_0.5</td><td>Pin_0.5</td><td>1.07 [0.27]</td></tr><tr><td>LAMP,AFC</td><td>05:35:20.98 -05:31:21.5</td><td>209.145458 -19.427436</td><td>288.C-5038(A)</td><td>XSHOO.2012-02-26T02:38:45.549</td><td>729629</td><td>OM-1186</td><td>1.0</td><td>CALIB</td><td>LAMP,AFC</td><td>ECHELLE</td><td>CALIB</td><td>NIR</td><td>--</td><td>V</td><td>PIN</td><td>5.0x11</td><td>5.0x11</td><td>5.0x11</td><td>1.15 [0.43]</td></tr><tr><td>OBJECT</td><td>05:35:21.05 -05:31:21.2</td><td>209.145500 -19.427159</td><td>288.C-5038(A)</td><td>XSHOO.2012-02-26T02:42:39.138</td><td>729629</td><td>OM-1186</td><td>5.0</td><td>ACQUISITION</td><td>OBJECT</td><td>IMAGE</td><td>IMAG</td><td>--</td><td>acetecE2V57I_ENG.clk</td><td>V</td><td>MIR</td><td>5.0x11</td><td>5.0x11</td><td>5.0x11</td><td>1.06 [0.25]</td></tr><tr><td>LAMP,AFC</td><td>05:35:20.98 -05:31:21.5</td><td>209.145458 -19.427436</td><td>288.C-5038(A)</td><td>XSHOO.2012-02-26T02:38:23.908</td><td>729629</td><td>OM-1186</td><td>0.5</td><td>CALIB</td><td>LAMP,AFC</td><td>ECHELLE</td><td>CALIB</td><td>VIS</td><td>400k/1pt/lg/AFC</td><td>V</td><td>PIN</td><td>5.0x11</td><td>5.0x11</td><td>5.0x11</td><td>1.15 [0.43]</td></tr><tr><td>OM-1186</td><td>05:35:21.19 -05:31:22.5</td><td>209.146118 -19.426783</td><td>288.C-5038(A)</td><td>XSHOO.2012-02-26T02:43:29.753</td><td>729629</td><td>OM-1186</td><td>300.0</td><td>SCIENCE</td><td>OBJECT</td><td>ECHELLE,SLIT,NODDING</td><td>SLITSPEC</td><td>UVB</td><td>100k/1pt/hg</td><td>V</td><td>SLOT</td><td>0.5x11</td><td>0.4x11</td><td>0.4x11</td><td>0.98 [0.01]</td></tr><tr><td>LAMP,AFC</td><td>05:35:20.98 -05:31:21.5</td><td>209.145458 -19.427436</td><td>288.C-5038(A)</td><td>XSHOO.2012-02-26T02:38:22.688</td><td>729629</td><td>OM-1186</td><td>10.0</td><td>CALIB</td><td>LAMP,AFC</td><td>ECHELLE</td><td>CALIB</td><td>UVB</td><td>400k/1pt/lg/AFC</td><td>V</td><td>PIN</td><td>5.0x11</td><td>5.0x11</td><td>5.0x11</td><td>1.15 [0.43]</td></tr><tr><td>LAMP,AFC</td><td>05:35:20.98 -05:31:21.5</td><td>209.145458 -19.427436</td><td>288.C-5038(A)</td><td>XSHOO.2012-02-26T02:37:51.806</td><td>729629</td><td>OM-1186</td><td>0.5</td><td>CALIB</td><td>LAMP,AFC</td><td>ECHELLE</td><td>CALIB</td><td>VIS</td><td>400k/1pt/lg/AFC</td><td>V</td><td>SLOT</td><td>Pin_0.5</td><td>Pin_0.5</td><td>Pin_0.5</td><td>1.07 [0.27]</td></tr><tr><td>OM-1186</td><td>05:35:21.19 -05:31:22.5</td><td>209.146118 -19.426783</td><td>288.C-5038(A)</td><td>XSHOO.2012-02-26T02:43:38.418</td><td>729629</td><td>OM-1186</td><td>150.0</td><td>SCIENCE</td><td>OBJECT</td><td>ECHELLE,SLIT,NODDING</td><td>SLITSPEC</td><td>NIR</td><td>--</td><td>V</td><td>SLOT</td><td>0.5x11</td><td>0.4x11</td><td>0.4x11</td><td>0.98 [0.01]</td></tr><tr><td>OBJECT</td><td>05:35:21.05 -05:31:21.2</td><td>209.145500 -19.427159</td><td>288.C-5038(A)</td><td>XSHOO.2012-02-26T02:42:08.839</td><td>729629</td><td>OM-1186</td><td>5.0</td><td>ACQUISITION</td><td>OBJECT</td><td>IMAGE</td><td>IMAG</td><td>--</td><td>acetecE2V57I_ENG.clk</td><td>V</td><td>MIR</td><td>5.0x11</td><td>5.0x11</td><td>5.0x11</td><td>1.08 [0.29]</td></tr><tr><td>...</td><td>...</td><td>...</td><td>...</td><td>...</td><td>...</td><td>...</td><td>...</td><td>...</td><td>...</td><td>...</td><td>...</td><td>...</td><td>...</td><td>...</td><td>...</td><td>...</td><td>...</td><td>...</td><td>...</td></tr><tr><td>LAMP,AFC</td><td>05:35:21.69 -05:34:46.9</td><td>209.200829 -19.450582</td><td>288.C-5038(A)</td><td>XSHOO.2012-03-07T01:19:29.828</td><td>729631</td><td>OM-3125</td><td>1.0</td><td>CALIB</td><td>LAMP,AFC</td><td>ECHELLE</td><td>CALIB</td><td>NIR</td><td>--</td><td>U</td><td>PIN</td><td>5.0x11</td><td>5.0x11</td><td>5.0x11</td><td>1.21 [0.51]</td></tr><tr><td>OM-3125</td><td>05:35:21.83 -05:34:47.2</td><td>209.201195 -19.450099</td><td>288.C-5038(A)</td><td>XSHOO.2012-03-07T01:24:06.503</td><td>729631</td><td>OM-3125</td><td>300.0</td><td>SCIENCE</td><td>OBJECT</td><td>ECHELLE,SLIT,NODDING</td><td>SLITSPEC</td><td>VIS</td><td>100k/1pt/hg</td><td>V</td><td>SLOT</td><td>0.5x11</td><td>0.4x11</td><td>0.4x11</td><td>1.07 [0.29]</td></tr><tr><td>LAMP,AFC</td><td>05:35:21.69 -05:34:46.9</td><td>209.200829 -19.450582</td><td>288.C-5038(A)</td><td>XSHOO.2012-03-07T01:19:29.680</td><td>729631</td><td>OM-3125</td><td>0.5</td><td>CALIB</td><td>LAMP,AFC</td><td>ECHELLE</td><td>CALIB</td><td>VIS</td><td>400k/1pt/lg/AFC</td><td>U</td><td>PIN</td><td>5.0x11</td><td>5.0x11</td><td>5.0x11</td><td>1.21 [0.51]</td></tr><tr><td>OM-3125</td><td>05:35:21.56 -05:34:44.3</td><td>209.199891 -19.450737</td><td>288.C-5038(A)</td><td>XSHOO.2012-03-07T01:31:58.691</td><td>729631</td><td>OM-3125</td><td>300.0</td><td>SCIENCE</td><td>OBJECT</td><td>ECHELLE,SLIT,NODDING</td><td>SLITSPEC</td><td>VIS</td><td>100k/1pt/hg</td><td>V</td><td>SLOT</td><td>0.5x11</td><td>0.4x11</td><td>0.4x11</td><td>1.31 [0.64]</td></tr><tr><td>OM-3125</td><td>05:35:21.83 -05:34:47.2</td><td>209.201195 -19.450099</td><td>288.C-5038(A)</td><td>XSHOO.2012-03-07T01:24:09.816</td><td>729631</td><td>OM-3125</td><td>150.0</td><td>SCIENCE</td><td>OBJECT</td><td>ECHELLE,SLIT,NODDING</td><td>SLITSPEC</td><td>NIR</td><td>--</td><td>V</td><td>SLOT</td><td>0.5x11</td><td>0.4x11</td><td>0.4x11</td><td>1.10 [0.34]</td></tr><tr><td>OBJECT</td><td>05:35:21.69 -05:34:45.7</td><td>209.200538 -19.450416</td><td>288.C-5038(A)</td><td>XSHOO.2012-03-07T01:23:19.679</td><td>729631</td><td>OM-3125</td><td>3.0</td><td>ACQUISITION</td><td>OBJECT</td><td>IMAGE</td><td>IMAG</td><td>--</td><td>acetecE2V57I_ENG.clk</td><td>V</td><td>MIR</td><td>5.0x11</td><td>5.0x11</td><td>5.0x11</td><td>1.17 [0.45]</td></tr><tr><td>OM-3125</td><td>05:35:21.83 -05:34:47.2</td><td>209.201195 -19.450099</td><td>288.C-5038(A)</td><td>XSHOO.2012-03-07T01:47:32.118</td><td>729631</td><td>OM-3125</td><td>300.0</td><td>SCIENCE</td><td>OBJECT</td><td>ECHELLE,SLIT,NODDING</td><td>SLITSPEC</td><td>UVB</td><td>100k/1pt/hg</td><td>V</td><td>SLOT</td><td>0.5x11</td><td>0.4x11</td><td>0.4x11</td><td>1.20 [0.50]</td></tr><tr><td>OM-3125</td><td>05:35:21.56 -05:34:44.3</td><td>209.199891 -19.450737</td><td>288.C-5038(A)</td><td>XSHOO.2012-03-07T01:39:45.039</td><td>729631</td><td>OM-3125</td><td>300.0</td><td>SCIENCE</td><td>OBJECT</td><td>ECHELLE,SLIT,NODDING</td><td>SLITSPEC</td><td>VIS</td><td>100k/1pt/hg</td><td>V</td><td>SLOT</td><td>0.5x11</td><td>0.4x11</td><td>0.4x11</td><td>1.25 [0.58]</td></tr><tr><td>OM-3125</td><td>05:35:21.83 -05:34:47.2</td><td>209.201195 -19.450099</td><td>288.C-5038(A)</td><td>XSHOO.2012-03-07T01:47:40.590</td><td>729631</td><td>OM-3125</td><td>150.0</td><td>SCIENCE</td><td>OBJECT</td><td>ECHELLE,SLIT,NODDING</td><td>SLITSPEC</td><td>NIR</td><td>--</td><td>V</td><td>SLOT</td><td>0.5x11</td><td>0.4x11</td><td>0.4x11</td><td>1.21 [0.50]</td></tr><tr><td>OM-3125</td><td>05:35:21.83 -05:34:47.2</td><td>209.201195 -19.450099</td><td>288.C-5038(A)</td><td>XSHOO.2012-03-07T01:47:37.329</td><td>729631</td><td>OM-3125</td><td>300.0</td><td>SCIENCE</td><td>OBJECT</td><td>ECHELLE,SLIT,NODDING</td><td>SLITSPEC</td><td>VIS</td><td>100k/1pt/hg</td><td>V</td><td>SLOT</td><td>0.5x11</td><td>0.4x11</td><td>0.4x11</td><td>1.20 [0.50]</td></tr><tr><td>LAMP,AFC</td><td>16:27:10.28 -24:19:12.7</td><td>353.249489 16.838301</td><td>089.C-0840(A)</td><td>XSHOO.2012-04-15T05:27:37.673</td><td>657274</td><td>SR21</td><td>0.5</td><td>CALIB</td><td>LAMP,AFC</td><td>ECHELLE</td><td>CALIB</td><td>VIS</td><td>400k/1pt/lg/AFC</td><td>V</td><td>PIN</td><td>5.0x11</td><td>5.0x11</td><td>5.0x11</td><td>1.00 [0.01]</td></tr></table>"
       ],
       "metadata": {},
       "output_type": "pyout",
       "prompt_number": 10,
       "text": [
        "<Table rows=50 names=('Object','Target Ra Dec','Target l b','ProgId','DP.ID','OB.ID','OBS.TARG.NAME','EXPTIME','DPR.CATG','DPR.TYPE','DPR.TECH','INS MODE','SEQ.ARM','DET.READ.CLOCK','INS.FILT1.NAME','INS.OPTI2.NAME','INS.OPTI3.NAME','INS.OPTI4.NAME','INS.OPTI5.NAME','DIMM S-avg')>\n",
        "masked_array(data = [ ('OBJECT', '05:35:21.04 -05:31:21.2', '209.145487 -19.427161', '288.C-5038(A)', 'XSHOO.2012-02-26T02:41:35.429', 729629, 'OM-1186', 5.0, 'ACQUISITION', 'OBJECT', 'IMAGE', 'IMAG', --, 'acetecE2V57I_ENG.clk', 'V', 'MIR', '5.0x11', '5.0x11', '5.0x11', '1.08 [0.29]')\n",
        " ('LAMP,AFC', '05:35:20.98 -05:31:21.5', '209.145458 -19.427436', '288.C-5038(A)', 'XSHOO.2012-02-26T02:38:24.054', 729629, 'OM-1186', 1.0, 'CALIB', 'LAMP,AFC', 'ECHELLE', 'CALIB', 'NIR', --, 'V', 'PIN', '5.0x11', '5.0x11', '5.0x11', '1.15 [0.43]')\n",
        " ('LAMP,AFC', '05:35:20.98 -05:31:21.5', '209.145458 -19.427436', '288.C-5038(A)', 'XSHOO.2012-02-26T02:37:50.587', 729629, 'OM-1186', 10.0, 'CALIB', 'LAMP,AFC', 'ECHELLE', 'CALIB', 'UVB', '400k/1pt/lg/AFC', 'V', 'SLOT', 'Pin_0.5', 'Pin_0.5', 'Pin_0.5', '1.07 [0.27]')\n",
        " ('LAMP,AFC', '05:35:20.98 -05:31:21.5', '209.145458 -19.427436', '288.C-5038(A)', 'XSHOO.2012-02-26T02:38:45.549', 729629, 'OM-1186', 1.0, 'CALIB', 'LAMP,AFC', 'ECHELLE', 'CALIB', 'NIR', --, 'V', 'PIN', '5.0x11', '5.0x11', '5.0x11', '1.15 [0.43]')\n",
        " ('OBJECT', '05:35:21.05 -05:31:21.2', '209.145500 -19.427159', '288.C-5038(A)', 'XSHOO.2012-02-26T02:42:39.138', 729629, 'OM-1186', 5.0, 'ACQUISITION', 'OBJECT', 'IMAGE', 'IMAG', --, 'acetecE2V57I_ENG.clk', 'V', 'MIR', '5.0x11', '5.0x11', '5.0x11', '1.06 [0.25]')\n",
        " ('LAMP,AFC', '05:35:20.98 -05:31:21.5', '209.145458 -19.427436', '288.C-5038(A)', 'XSHOO.2012-02-26T02:38:23.908', 729629, 'OM-1186', 0.5, 'CALIB', 'LAMP,AFC', 'ECHELLE', 'CALIB', 'VIS', '400k/1pt/lg/AFC', 'V', 'PIN', '5.0x11', '5.0x11', '5.0x11', '1.15 [0.43]')\n",
        " ('OM-1186', '05:35:21.19 -05:31:22.5', '209.146118 -19.426783', '288.C-5038(A)', 'XSHOO.2012-02-26T02:43:29.753', 729629, 'OM-1186', 300.0, 'SCIENCE', 'OBJECT', 'ECHELLE,SLIT,NODDING', 'SLITSPEC', 'UVB', '100k/1pt/hg', 'V', 'SLOT', '0.5x11', '0.4x11', '0.4x11', '0.98 [0.01]')\n",
        " ('LAMP,AFC', '05:35:20.98 -05:31:21.5', '209.145458 -19.427436', '288.C-5038(A)', 'XSHOO.2012-02-26T02:38:22.688', 729629, 'OM-1186', 10.0, 'CALIB', 'LAMP,AFC', 'ECHELLE', 'CALIB', 'UVB', '400k/1pt/lg/AFC', 'V', 'PIN', '5.0x11', '5.0x11', '5.0x11', '1.15 [0.43]')\n",
        " ('LAMP,AFC', '05:35:20.98 -05:31:21.5', '209.145458 -19.427436', '288.C-5038(A)', 'XSHOO.2012-02-26T02:37:51.806', 729629, 'OM-1186', 0.5, 'CALIB', 'LAMP,AFC', 'ECHELLE', 'CALIB', 'VIS', '400k/1pt/lg/AFC', 'V', 'SLOT', 'Pin_0.5', 'Pin_0.5', 'Pin_0.5', '1.07 [0.27]')\n",
        " ('OM-1186', '05:35:21.19 -05:31:22.5', '209.146118 -19.426783', '288.C-5038(A)', 'XSHOO.2012-02-26T02:43:38.418', 729629, 'OM-1186', 150.0, 'SCIENCE', 'OBJECT', 'ECHELLE,SLIT,NODDING', 'SLITSPEC', 'NIR', --, 'V', 'SLOT', '0.5x11', '0.4x11', '0.4x11', '0.98 [0.01]')\n",
        " ('OBJECT', '05:35:21.05 -05:31:21.2', '209.145500 -19.427159', '288.C-5038(A)', 'XSHOO.2012-02-26T02:42:08.839', 729629, 'OM-1186', 5.0, 'ACQUISITION', 'OBJECT', 'IMAGE', 'IMAG', --, 'acetecE2V57I_ENG.clk', 'V', 'MIR', '5.0x11', '5.0x11', '5.0x11', '1.08 [0.29]')\n",
        " ('OM-1186', '05:35:21.19 -05:31:22.5', '209.146118 -19.426783', '288.C-5038(A)', 'XSHOO.2012-02-26T02:43:34.973', 729629, 'OM-1186', 300.0, 'SCIENCE', 'OBJECT', 'ECHELLE,SLIT,NODDING', 'SLITSPEC', 'VIS', '100k/1pt/hg', 'V', 'SLOT', '0.5x11', '0.4x11', '0.4x11', '0.98 [0.01]')\n",
        " ('OBJECT', '05:35:21.05 -05:31:21.2', '209.145500 -19.427159', '288.C-5038(A)', 'XSHOO.2012-02-26T02:42:55.629', 729629, 'OM-1186', 5.0, 'ACQUISITION', 'OBJECT', 'IMAGE', 'IMAG', --, 'acetecE2V57I_ENG.clk', 'V', 'MIR', '5.0x11', '5.0x11', '5.0x11', '1.06 [0.25]')\n",
        " ('LAMP,AFC', '05:35:20.98 -05:31:21.5', '209.145458 -19.427436', '288.C-5038(A)', 'XSHOO.2012-02-26T02:38:45.971', 729629, 'OM-1186', 0.5, 'CALIB', 'LAMP,AFC', 'ECHELLE', 'CALIB', 'VIS', '400k/1pt/lg/AFC', 'V', 'PIN', '5.0x11', '5.0x11', '5.0x11', '1.15 [0.43]')\n",
        " ('LAMP,AFC', '05:35:20.98 -05:31:21.5', '209.145458 -19.427436', '288.C-5038(A)', 'XSHOO.2012-02-26T02:38:44.751', 729629, 'OM-1186', 10.0, 'CALIB', 'LAMP,AFC', 'ECHELLE', 'CALIB', 'UVB', '400k/1pt/lg/AFC', 'V', 'PIN', '5.0x11', '5.0x11', '5.0x11', '1.15 [0.43]')\n",
        " ('LAMP,AFC', '05:35:20.98 -05:31:21.5', '209.145458 -19.427436', '288.C-5038(A)', 'XSHOO.2012-02-26T02:37:51.679', 729629, 'OM-1186', 1.0, 'CALIB', 'LAMP,AFC', 'ECHELLE', 'CALIB', 'NIR', --, 'V', 'SLOT', 'Pin_0.5', 'Pin_0.5', 'Pin_0.5', '1.07 [0.27]')\n",
        " ('OBJECT', '05:35:21.05 -05:31:21.2', '209.145500 -19.427159', '288.C-5038(A)', 'XSHOO.2012-02-26T02:42:23.898', 729629, 'OM-1186', 5.0, 'ACQUISITION', 'OBJECT', 'IMAGE', 'IMAG', --, 'acetecE2V57I_ENG.clk', 'V', 'MIR', '5.0x11', '5.0x11', '5.0x11', '1.06 [0.25]')\n",
        " ('OM-1186', '05:35:21.19 -05:31:22.5', '209.146118 -19.426783', '288.C-5038(A)', 'XSHOO.2012-02-26T03:07:05.077', 729629, 'OM-1186', 300.0, 'SCIENCE', 'OBJECT', 'ECHELLE,SLIT,NODDING', 'SLITSPEC', 'VIS', '100k/1pt/hg', 'V', 'SLOT', '0.5x11', '0.4x11', '0.4x11', '1.07 [0.28]')\n",
        " ('OM-1186', '05:35:20.90 -05:31:20.0', '209.144881 -19.427537', '288.C-5038(A)', 'XSHOO.2012-02-26T02:59:12.608', 729629, 'OM-1186', 300.0, 'SCIENCE', 'OBJECT', 'ECHELLE,SLIT,NODDING', 'SLITSPEC', 'VIS', '100k/1pt/hg', 'V', 'SLOT', '0.5x11', '0.4x11', '0.4x11', '1.11 [0.36]')\n",
        " ('OM-1186', '05:35:21.19 -05:31:22.5', '209.146118 -19.426783', '288.C-5038(A)', 'XSHOO.2012-02-26T03:06:59.866', 729629, 'OM-1186', 300.0, 'SCIENCE', 'OBJECT', 'ECHELLE,SLIT,NODDING', 'SLITSPEC', 'UVB', '100k/1pt/hg', 'V', 'SLOT', '0.5x11', '0.4x11', '0.4x11', '1.07 [0.28]')\n",
        " ('OM-1186', '05:35:20.90 -05:31:20.0', '209.144881 -19.427537', '288.C-5038(A)', 'XSHOO.2012-02-26T02:59:15.600', 729629, 'OM-1186', 150.0, 'SCIENCE', 'OBJECT', 'ECHELLE,SLIT,NODDING', 'SLITSPEC', 'NIR', --, 'V', 'SLOT', '0.5x11', '0.4x11', '0.4x11', '1.09 [0.32]')\n",
        " ('OM-1186', '05:35:20.90 -05:31:20.0', '209.144881 -19.427537', '288.C-5038(A)', 'XSHOO.2012-02-26T02:51:30.009', 729629, 'OM-1186', 150.0, 'SCIENCE', 'OBJECT', 'ECHELLE,SLIT,NODDING', 'SLITSPEC', 'NIR', --, 'V', 'SLOT', '0.5x11', '0.4x11', '0.4x11', '0.98 [0.01]')\n",
        " ('OM-1186', '05:35:20.90 -05:31:20.0', '209.144881 -19.427537', '288.C-5038(A)', 'XSHOO.2012-02-26T02:51:21.971', 729629, 'OM-1186', 300.0, 'SCIENCE', 'OBJECT', 'ECHELLE,SLIT,NODDING', 'SLITSPEC', 'UVB', '100k/1pt/hg', 'V', 'SLOT', '0.5x11', '0.4x11', '0.4x11', '0.96 [0.01]')\n",
        " ('OM-1186', '05:35:20.90 -05:31:20.0', '209.144881 -19.427537', '288.C-5038(A)', 'XSHOO.2012-02-26T02:59:07.438', 729629, 'OM-1186', 300.0, 'SCIENCE', 'OBJECT', 'ECHELLE,SLIT,NODDING', 'SLITSPEC', 'UVB', '100k/1pt/hg', 'V', 'SLOT', '0.5x11', '0.4x11', '0.4x11', '1.11 [0.36]')\n",
        " ('OM-1186', '05:35:21.19 -05:31:22.5', '209.146118 -19.426783', '288.C-5038(A)', 'XSHOO.2012-02-26T03:07:07.855', 729629, 'OM-1186', 150.0, 'SCIENCE', 'OBJECT', 'ECHELLE,SLIT,NODDING', 'SLITSPEC', 'NIR', --, 'V', 'SLOT', '0.5x11', '0.4x11', '0.4x11', '1.06 [0.26]')\n",
        " ('OM-1186', '05:35:20.90 -05:31:20.0', '209.144881 -19.427537', '288.C-5038(A)', 'XSHOO.2012-02-26T02:51:27.191', 729629, 'OM-1186', 300.0, 'SCIENCE', 'OBJECT', 'ECHELLE,SLIT,NODDING', 'SLITSPEC', 'VIS', '100k/1pt/hg', 'V', 'SLOT', '0.5x11', '0.4x11', '0.4x11', '0.96 [0.01]')\n",
        " ('LAMP,AFC', '05:35:21.69 -05:34:46.9', '209.200829 -19.450583', '288.C-5038(A)', 'XSHOO.2012-03-07T01:18:53.618', 729631, 'OM-3125', 10.0, 'CALIB', 'LAMP,AFC', 'ECHELLE', 'CALIB', 'UVB', '400k/1pt/lg/AFC', 'U', 'SLOT', 'Pin_0.5', 'Pin_0.5', 'Pin_0.5', '1.15 [0.42]')\n",
        " ('LAMP,AFC', '05:35:21.69 -05:34:46.9', '209.200829 -19.450583', '288.C-5038(A)', 'XSHOO.2012-03-07T01:18:54.730', 729631, 'OM-3125', 1.0, 'CALIB', 'LAMP,AFC', 'ECHELLE', 'CALIB', 'NIR', --, 'U', 'SLOT', 'Pin_0.5', 'Pin_0.5', 'Pin_0.5', '1.15 [0.42]')\n",
        " ('OM-3125', '05:35:21.83 -05:34:47.2', '209.201195 -19.450099', '288.C-5038(A)', 'XSHOO.2012-03-07T01:24:01.322', 729631, 'OM-3125', 300.0, 'SCIENCE', 'OBJECT', 'ECHELLE,SLIT,NODDING', 'SLITSPEC', 'UVB', '100k/1pt/hg', 'V', 'SLOT', '0.5x11', '0.4x11', '0.4x11', '1.07 [0.29]')\n",
        " ('LAMP,AFC', '05:35:21.69 -05:34:46.9', '209.200829 -19.450582', '288.C-5038(A)', 'XSHOO.2012-03-07T01:19:28.460', 729631, 'OM-3125', 10.0, 'CALIB', 'LAMP,AFC', 'ECHELLE', 'CALIB', 'UVB', '400k/1pt/lg/AFC', 'U', 'PIN', '5.0x11', '5.0x11', '5.0x11', '1.21 [0.51]')\n",
        " ('OM-3125', '05:35:21.56 -05:34:44.3', '209.199891 -19.450737', '288.C-5038(A)', 'XSHOO.2012-03-07T01:32:01.407', 729631, 'OM-3125', 150.0, 'SCIENCE', 'OBJECT', 'ECHELLE,SLIT,NODDING', 'SLITSPEC', 'NIR', --, 'V', 'SLOT', '0.5x11', '0.4x11', '0.4x11', '1.35 [0.70]')\n",
        " ('OBJECT', '05:35:21.69 -05:34:45.7', '209.200538 -19.450416', '288.C-5038(A)', 'XSHOO.2012-03-07T01:23:08.218', 729631, 'OM-3125', 3.0, 'ACQUISITION', 'OBJECT', 'IMAGE', 'IMAG', --, 'acetecE2V57I_ENG.clk', 'V', 'MIR', '5.0x11', '5.0x11', '5.0x11', '1.17 [0.45]')\n",
        " ('OBJECT', '05:35:21.69 -05:34:45.7', '209.200538 -19.450416', '288.C-5038(A)', 'XSHOO.2012-03-07T01:22:57.099', 729631, 'OM-3125', 3.0, 'ACQUISITION', 'OBJECT', 'IMAGE', 'IMAG', --, 'acetecE2V57I_ENG.clk', 'V', 'MIR', '5.0x11', '5.0x11', '5.0x11', '1.17 [0.45]')\n",
        " ('OM-3125', '05:35:21.56 -05:34:44.3', '209.199891 -19.450737', '288.C-5038(A)', 'XSHOO.2012-03-07T01:39:48.331', 729631, 'OM-3125', 150.0, 'SCIENCE', 'OBJECT', 'ECHELLE,SLIT,NODDING', 'SLITSPEC', 'NIR', --, 'V', 'SLOT', '0.5x11', '0.4x11', '0.4x11', '1.20 [0.51]')\n",
        " ('OM-3125', '05:35:21.56 -05:34:44.3', '209.199891 -19.450737', '288.C-5038(A)', 'XSHOO.2012-03-07T01:31:53.481', 729631, 'OM-3125', 300.0, 'SCIENCE', 'OBJECT', 'ECHELLE,SLIT,NODDING', 'SLITSPEC', 'UVB', '100k/1pt/hg', 'V', 'SLOT', '0.5x11', '0.4x11', '0.4x11', '1.31 [0.64]')\n",
        " ('OBJECT', '05:35:21.69 -05:34:45.7', '209.200538 -19.450416', '288.C-5038(A)', 'XSHOO.2012-03-07T01:23:30.828', 729631, 'OM-3125', 3.0, 'ACQUISITION', 'OBJECT', 'IMAGE', 'IMAG', --, 'acetecE2V57I_ENG.clk', 'V', 'MIR', '5.0x11', '5.0x11', '5.0x11', '1.12 [0.37]')\n",
        " ('LAMP,AFC', '05:35:21.69 -05:34:46.9', '209.200829 -19.450583', '288.C-5038(A)', 'XSHOO.2012-03-07T01:18:54.838', 729631, 'OM-3125', 0.5, 'CALIB', 'LAMP,AFC', 'ECHELLE', 'CALIB', 'VIS', '400k/1pt/lg/AFC', 'U', 'SLOT', 'Pin_0.5', 'Pin_0.5', 'Pin_0.5', '1.15 [0.42]')\n",
        " ('OM-3125', '05:35:21.56 -05:34:44.3', '209.199891 -19.450737', '288.C-5038(A)', 'XSHOO.2012-03-07T01:39:39.819', 729631, 'OM-3125', 300.0, 'SCIENCE', 'OBJECT', 'ECHELLE,SLIT,NODDING', 'SLITSPEC', 'UVB', '100k/1pt/hg', 'V', 'SLOT', '0.5x11', '0.4x11', '0.4x11', '1.25 [0.58]')\n",
        " ('OBJECT', '05:35:21.70 -05:34:45.7', '209.200533 -19.450404', '288.C-5038(A)', 'XSHOO.2012-03-07T01:22:29.459', 729631, 'OM-3125', 3.0, 'ACQUISITION', 'OBJECT', 'IMAGE', 'IMAG', --, 'acetecE2V57I_ENG.clk', 'V', 'MIR', '5.0x11', '5.0x11', '5.0x11', '1.17 [0.45]')\n",
        " ('LAMP,AFC', '05:35:21.69 -05:34:46.9', '209.200829 -19.450582', '288.C-5038(A)', 'XSHOO.2012-03-07T01:19:29.828', 729631, 'OM-3125', 1.0, 'CALIB', 'LAMP,AFC', 'ECHELLE', 'CALIB', 'NIR', --, 'U', 'PIN', '5.0x11', '5.0x11', '5.0x11', '1.21 [0.51]')\n",
        " ('OM-3125', '05:35:21.83 -05:34:47.2', '209.201195 -19.450099', '288.C-5038(A)', 'XSHOO.2012-03-07T01:24:06.503', 729631, 'OM-3125', 300.0, 'SCIENCE', 'OBJECT', 'ECHELLE,SLIT,NODDING', 'SLITSPEC', 'VIS', '100k/1pt/hg', 'V', 'SLOT', '0.5x11', '0.4x11', '0.4x11', '1.07 [0.29]')\n",
        " ('LAMP,AFC', '05:35:21.69 -05:34:46.9', '209.200829 -19.450582', '288.C-5038(A)', 'XSHOO.2012-03-07T01:19:29.680', 729631, 'OM-3125', 0.5, 'CALIB', 'LAMP,AFC', 'ECHELLE', 'CALIB', 'VIS', '400k/1pt/lg/AFC', 'U', 'PIN', '5.0x11', '5.0x11', '5.0x11', '1.21 [0.51]')\n",
        " ('OM-3125', '05:35:21.56 -05:34:44.3', '209.199891 -19.450737', '288.C-5038(A)', 'XSHOO.2012-03-07T01:31:58.691', 729631, 'OM-3125', 300.0, 'SCIENCE', 'OBJECT', 'ECHELLE,SLIT,NODDING', 'SLITSPEC', 'VIS', '100k/1pt/hg', 'V', 'SLOT', '0.5x11', '0.4x11', '0.4x11', '1.31 [0.64]')\n",
        " ('OM-3125', '05:35:21.83 -05:34:47.2', '209.201195 -19.450099', '288.C-5038(A)', 'XSHOO.2012-03-07T01:24:09.816', 729631, 'OM-3125', 150.0, 'SCIENCE', 'OBJECT', 'ECHELLE,SLIT,NODDING', 'SLITSPEC', 'NIR', --, 'V', 'SLOT', '0.5x11', '0.4x11', '0.4x11', '1.10 [0.34]')\n",
        " ('OBJECT', '05:35:21.69 -05:34:45.7', '209.200538 -19.450416', '288.C-5038(A)', 'XSHOO.2012-03-07T01:23:19.679', 729631, 'OM-3125', 3.0, 'ACQUISITION', 'OBJECT', 'IMAGE', 'IMAG', --, 'acetecE2V57I_ENG.clk', 'V', 'MIR', '5.0x11', '5.0x11', '5.0x11', '1.17 [0.45]')\n",
        " ('OM-3125', '05:35:21.83 -05:34:47.2', '209.201195 -19.450099', '288.C-5038(A)', 'XSHOO.2012-03-07T01:47:32.118', 729631, 'OM-3125', 300.0, 'SCIENCE', 'OBJECT', 'ECHELLE,SLIT,NODDING', 'SLITSPEC', 'UVB', '100k/1pt/hg', 'V', 'SLOT', '0.5x11', '0.4x11', '0.4x11', '1.20 [0.50]')\n",
        " ('OM-3125', '05:35:21.56 -05:34:44.3', '209.199891 -19.450737', '288.C-5038(A)', 'XSHOO.2012-03-07T01:39:45.039', 729631, 'OM-3125', 300.0, 'SCIENCE', 'OBJECT', 'ECHELLE,SLIT,NODDING', 'SLITSPEC', 'VIS', '100k/1pt/hg', 'V', 'SLOT', '0.5x11', '0.4x11', '0.4x11', '1.25 [0.58]')\n",
        " ('OM-3125', '05:35:21.83 -05:34:47.2', '209.201195 -19.450099', '288.C-5038(A)', 'XSHOO.2012-03-07T01:47:40.590', 729631, 'OM-3125', 150.0, 'SCIENCE', 'OBJECT', 'ECHELLE,SLIT,NODDING', 'SLITSPEC', 'NIR', --, 'V', 'SLOT', '0.5x11', '0.4x11', '0.4x11', '1.21 [0.50]')\n",
        " ('OM-3125', '05:35:21.83 -05:34:47.2', '209.201195 -19.450099', '288.C-5038(A)', 'XSHOO.2012-03-07T01:47:37.329', 729631, 'OM-3125', 300.0, 'SCIENCE', 'OBJECT', 'ECHELLE,SLIT,NODDING', 'SLITSPEC', 'VIS', '100k/1pt/hg', 'V', 'SLOT', '0.5x11', '0.4x11', '0.4x11', '1.20 [0.50]')\n",
        " ('LAMP,AFC', '16:27:10.28 -24:19:12.7', '353.249489 16.838301', '089.C-0840(A)', 'XSHOO.2012-04-15T05:27:37.673', 657274, 'SR21', 0.5, 'CALIB', 'LAMP,AFC', 'ECHELLE', 'CALIB', 'VIS', '400k/1pt/lg/AFC', 'V', 'PIN', '5.0x11', '5.0x11', '5.0x11', '1.00 [0.01]')],\n",
        "             mask = [ (False, False, False, False, False, False, False, False, False, False, False, False, True, False, False, False, False, False, False, False)\n",
        " (False, False, False, False, False, False, False, False, False, False, False, False, False, True, False, False, False, False, False, False)\n",
        " (False, False, False, False, False, False, False, False, False, False, False, False, False, False, False, False, False, False, False, False)\n",
        " (False, False, False, False, False, False, False, False, False, False, False, False, False, True, False, False, False, False, False, False)\n",
        " (False, False, False, False, False, False, False, False, False, False, False, False, True, False, False, False, False, False, False, False)\n",
        " (False, False, False, False, False, False, False, False, False, False, False, False, False, False, False, False, False, False, False, False)\n",
        " (False, False, False, False, False, False, False, False, False, False, False, False, False, False, False, False, False, False, False, False)\n",
        " (False, False, False, False, False, False, False, False, False, False, False, False, False, False, False, False, False, False, False, False)\n",
        " (False, False, False, False, False, False, False, False, False, False, False, False, False, False, False, False, False, False, False, False)\n",
        " (False, False, False, False, False, False, False, False, False, False, False, False, False, True, False, False, False, False, False, False)\n",
        " (False, False, False, False, False, False, False, False, False, False, False, False, True, False, False, False, False, False, False, False)\n",
        " (False, False, False, False, False, False, False, False, False, False, False, False, False, False, False, False, False, False, False, False)\n",
        " (False, False, False, False, False, False, False, False, False, False, False, False, True, False, False, False, False, False, False, False)\n",
        " (False, False, False, False, False, False, False, False, False, False, False, False, False, False, False, False, False, False, False, False)\n",
        " (False, False, False, False, False, False, False, False, False, False, False, False, False, False, False, False, False, False, False, False)\n",
        " (False, False, False, False, False, False, False, False, False, False, False, False, False, True, False, False, False, False, False, False)\n",
        " (False, False, False, False, False, False, False, False, False, False, False, False, True, False, False, False, False, False, False, False)\n",
        " (False, False, False, False, False, False, False, False, False, False, False, False, False, False, False, False, False, False, False, False)\n",
        " (False, False, False, False, False, False, False, False, False, False, False, False, False, False, False, False, False, False, False, False)\n",
        " (False, False, False, False, False, False, False, False, False, False, False, False, False, False, False, False, False, False, False, False)\n",
        " (False, False, False, False, False, False, False, False, False, False, False, False, False, True, False, False, False, False, False, False)\n",
        " (False, False, False, False, False, False, False, False, False, False, False, False, False, True, False, False, False, False, False, False)\n",
        " (False, False, False, False, False, False, False, False, False, False, False, False, False, False, False, False, False, False, False, False)\n",
        " (False, False, False, False, False, False, False, False, False, False, False, False, False, False, False, False, False, False, False, False)\n",
        " (False, False, False, False, False, False, False, False, False, False, False, False, False, True, False, False, False, False, False, False)\n",
        " (False, False, False, False, False, False, False, False, False, False, False, False, False, False, False, False, False, False, False, False)\n",
        " (False, False, False, False, False, False, False, False, False, False, False, False, False, False, False, False, False, False, False, False)\n",
        " (False, False, False, False, False, False, False, False, False, False, False, False, False, True, False, False, False, False, False, False)\n",
        " (False, False, False, False, False, False, False, False, False, False, False, False, False, False, False, False, False, False, False, False)\n",
        " (False, False, False, False, False, False, False, False, False, False, False, False, False, False, False, False, False, False, False, False)\n",
        " (False, False, False, False, False, False, False, False, False, False, False, False, False, True, False, False, False, False, False, False)\n",
        " (False, False, False, False, False, False, False, False, False, False, False, False, True, False, False, False, False, False, False, False)\n",
        " (False, False, False, False, False, False, False, False, False, False, False, False, True, False, False, False, False, False, False, False)\n",
        " (False, False, False, False, False, False, False, False, False, False, False, False, False, True, False, False, False, False, False, False)\n",
        " (False, False, False, False, False, False, False, False, False, False, False, False, False, False, False, False, False, False, False, False)\n",
        " (False, False, False, False, False, False, False, False, False, False, False, False, True, False, False, False, False, False, False, False)\n",
        " (False, False, False, False, False, False, False, False, False, False, False, False, False, False, False, False, False, False, False, False)\n",
        " (False, False, False, False, False, False, False, False, False, False, False, False, False, False, False, False, False, False, False, False)\n",
        " (False, False, False, False, False, False, False, False, False, False, False, False, True, False, False, False, False, False, False, False)\n",
        " (False, False, False, False, False, False, False, False, False, False, False, False, False, True, False, False, False, False, False, False)\n",
        " (False, False, False, False, False, False, False, False, False, False, False, False, False, False, False, False, False, False, False, False)\n",
        " (False, False, False, False, False, False, False, False, False, False, False, False, False, False, False, False, False, False, False, False)\n",
        " (False, False, False, False, False, False, False, False, False, False, False, False, False, False, False, False, False, False, False, False)\n",
        " (False, False, False, False, False, False, False, False, False, False, False, False, False, True, False, False, False, False, False, False)\n",
        " (False, False, False, False, False, False, False, False, False, False, False, False, True, False, False, False, False, False, False, False)\n",
        " (False, False, False, False, False, False, False, False, False, False, False, False, False, False, False, False, False, False, False, False)\n",
        " (False, False, False, False, False, False, False, False, False, False, False, False, False, False, False, False, False, False, False, False)\n",
        " (False, False, False, False, False, False, False, False, False, False, False, False, False, True, False, False, False, False, False, False)\n",
        " (False, False, False, False, False, False, False, False, False, False, False, False, False, False, False, False, False, False, False, False)\n",
        " (False, False, False, False, False, False, False, False, False, False, False, False, False, False, False, False, False, False, False, False)],\n",
        "       fill_value = ('N/A', 'N/A', 'N/A', 'N/A', 'N/A', 999999, 'N/A', 1e+20, 'N/A', 'N/A', 'N/A', 'N/A', 'N/A', 'N/A', 'N', 'N/A', 'N/A', 'N/A', 'N/A', 'N/A'),\n",
        "            dtype = [('Object', 'S8'), ('Target Ra Dec', 'S23'), ('Target l b', 'S21'), ('ProgId', 'S13'), ('DP.ID', 'S29'), ('OB.ID', '<i8'), ('OBS.TARG.NAME', 'S7'), ('EXPTIME', '<f8'), ('DPR.CATG', 'S11'), ('DPR.TYPE', 'S8'), ('DPR.TECH', 'S20'), ('INS MODE', 'S8'), ('SEQ.ARM', 'S3'), ('DET.READ.CLOCK', 'S20'), ('INS.FILT1.NAME', 'S1'), ('INS.OPTI2.NAME', 'S4'), ('INS.OPTI3.NAME', 'S7'), ('INS.OPTI4.NAME', 'S7'), ('INS.OPTI5.NAME', 'S7'), ('DIMM S-avg', 'S11')])"
       ]
      }
     ],
     "prompt_number": 10
    },
    {
     "cell_type": "code",
     "collapsed": false,
     "input": [
      "result.colnames"
     ],
     "language": "python",
     "metadata": {},
     "outputs": [
      {
       "metadata": {},
       "output_type": "pyout",
       "prompt_number": 11,
       "text": [
        "['Object',\n",
        " 'Target Ra Dec',\n",
        " 'Target l b',\n",
        " 'ProgId',\n",
        " 'DP.ID',\n",
        " 'OB.ID',\n",
        " 'OBS.TARG.NAME',\n",
        " 'EXPTIME',\n",
        " 'DPR.CATG',\n",
        " 'DPR.TYPE',\n",
        " 'DPR.TECH',\n",
        " 'INS MODE',\n",
        " 'SEQ.ARM',\n",
        " 'DET.READ.CLOCK',\n",
        " 'INS.FILT1.NAME',\n",
        " 'INS.OPTI2.NAME',\n",
        " 'INS.OPTI3.NAME',\n",
        " 'INS.OPTI4.NAME',\n",
        " 'INS.OPTI5.NAME',\n",
        " 'DIMM S-avg']"
       ]
      }
     ],
     "prompt_number": 11
    },
    {
     "cell_type": "markdown",
     "metadata": {},
     "source": [
      "A simple python trick: a ``set`` is an unordered collection of unique objects (just like in math).  ``np.unique`` does the same thing, but returns a numpy array, which is ordered."
     ]
    },
    {
     "cell_type": "code",
     "collapsed": false,
     "input": [
      "set(result['ProgId'])"
     ],
     "language": "python",
     "metadata": {},
     "outputs": [
      {
       "metadata": {},
       "output_type": "pyout",
       "prompt_number": 12,
       "text": [
        "{'089.C-0840(A)', '288.C-5038(A)'}"
       ]
      }
     ],
     "prompt_number": 12
    },
    {
     "cell_type": "markdown",
     "metadata": {},
     "source": [
      "The ``DP.ID`` row is the Data Product Identifier, which can be used to retrieve (download) the data"
     ]
    },
    {
     "cell_type": "code",
     "collapsed": false,
     "input": [
      "result['DP.ID']"
     ],
     "language": "python",
     "metadata": {},
     "outputs": [
      {
       "metadata": {},
       "output_type": "pyout",
       "prompt_number": 13,
       "text": [
        "<MaskedColumn name='DP.ID' unit=None format=None description=None>\n",
        "masked_array(data = ['XSHOO.2012-02-26T02:41:35.429' 'XSHOO.2012-02-26T02:38:24.054'\n",
        " 'XSHOO.2012-02-26T02:37:50.587' 'XSHOO.2012-02-26T02:38:45.549'\n",
        " 'XSHOO.2012-02-26T02:42:39.138' 'XSHOO.2012-02-26T02:38:23.908'\n",
        " 'XSHOO.2012-02-26T02:43:29.753' 'XSHOO.2012-02-26T02:38:22.688'\n",
        " 'XSHOO.2012-02-26T02:37:51.806' 'XSHOO.2012-02-26T02:43:38.418'\n",
        " 'XSHOO.2012-02-26T02:42:08.839' 'XSHOO.2012-02-26T02:43:34.973'\n",
        " 'XSHOO.2012-02-26T02:42:55.629' 'XSHOO.2012-02-26T02:38:45.971'\n",
        " 'XSHOO.2012-02-26T02:38:44.751' 'XSHOO.2012-02-26T02:37:51.679'\n",
        " 'XSHOO.2012-02-26T02:42:23.898' 'XSHOO.2012-02-26T03:07:05.077'\n",
        " 'XSHOO.2012-02-26T02:59:12.608' 'XSHOO.2012-02-26T03:06:59.866'\n",
        " 'XSHOO.2012-02-26T02:59:15.600' 'XSHOO.2012-02-26T02:51:30.009'\n",
        " 'XSHOO.2012-02-26T02:51:21.971' 'XSHOO.2012-02-26T02:59:07.438'\n",
        " 'XSHOO.2012-02-26T03:07:07.855' 'XSHOO.2012-02-26T02:51:27.191'\n",
        " 'XSHOO.2012-03-07T01:18:53.618' 'XSHOO.2012-03-07T01:18:54.730'\n",
        " 'XSHOO.2012-03-07T01:24:01.322' 'XSHOO.2012-03-07T01:19:28.460'\n",
        " 'XSHOO.2012-03-07T01:32:01.407' 'XSHOO.2012-03-07T01:23:08.218'\n",
        " 'XSHOO.2012-03-07T01:22:57.099' 'XSHOO.2012-03-07T01:39:48.331'\n",
        " 'XSHOO.2012-03-07T01:31:53.481' 'XSHOO.2012-03-07T01:23:30.828'\n",
        " 'XSHOO.2012-03-07T01:18:54.838' 'XSHOO.2012-03-07T01:39:39.819'\n",
        " 'XSHOO.2012-03-07T01:22:29.459' 'XSHOO.2012-03-07T01:19:29.828'\n",
        " 'XSHOO.2012-03-07T01:24:06.503' 'XSHOO.2012-03-07T01:19:29.680'\n",
        " 'XSHOO.2012-03-07T01:31:58.691' 'XSHOO.2012-03-07T01:24:09.816'\n",
        " 'XSHOO.2012-03-07T01:23:19.679' 'XSHOO.2012-03-07T01:47:32.118'\n",
        " 'XSHOO.2012-03-07T01:39:45.039' 'XSHOO.2012-03-07T01:47:40.590'\n",
        " 'XSHOO.2012-03-07T01:47:37.329' 'XSHOO.2012-04-15T05:27:37.673'],\n",
        "             mask = [False False False False False False False False False False False False\n",
        " False False False False False False False False False False False False\n",
        " False False False False False False False False False False False False\n",
        " False False False False False False False False False False False False\n",
        " False False],\n",
        "       fill_value = N/A)"
       ]
      }
     ],
     "prompt_number": 13
    },
    {
     "cell_type": "markdown",
     "metadata": {},
     "source": [
      "``Eso.login`` will log you in with your username.  It uses the ``keyring`` package to store your username/password if you so choose.  If not, you will be asked to enter your password.\n",
      "\n",
      "**Warning**: If you're using an ipython notebook, the password entry form will appear in the terminal, *not* in the notebook!"
     ]
    },
    {
     "cell_type": "code",
     "collapsed": false,
     "input": [
      "Eso.login('aginsburg')"
     ],
     "language": "python",
     "metadata": {},
     "outputs": [
      {
       "output_type": "stream",
       "stream": "stdout",
       "text": [
        "Authenticating aginsburg on www.eso.org...\n",
        "Authentication successful!"
       ]
      },
      {
       "output_type": "stream",
       "stream": "stdout",
       "text": [
        "\n"
       ]
      },
      {
       "metadata": {},
       "output_type": "pyout",
       "prompt_number": 14,
       "text": [
        "True"
       ]
      }
     ],
     "prompt_number": 14
    },
    {
     "cell_type": "code",
     "collapsed": false,
     "input": [
      "headers = Eso.get_headers(result['DP.ID'][0:1])"
     ],
     "language": "python",
     "metadata": {},
     "outputs": [],
     "prompt_number": 15
    },
    {
     "cell_type": "code",
     "collapsed": false,
     "input": [
      "Eso.data_retrieval(result['DP.ID'][0][0:1])"
     ],
     "language": "python",
     "metadata": {},
     "outputs": [
      {
       "output_type": "stream",
       "stream": "stdout",
       "text": [
        "Staging request...\n",
        "Downloading files..."
       ]
      },
      {
       "output_type": "stream",
       "stream": "stdout",
       "text": [
        "\n",
        "Downloading X.xml...\n",
        "Done!"
       ]
      },
      {
       "output_type": "stream",
       "stream": "stdout",
       "text": [
        "\n"
       ]
      },
      {
       "metadata": {},
       "output_type": "pyout",
       "prompt_number": 16,
       "text": [
        "[u'/Users/adam/.astropy/cache/astroquery/Eso/X']"
       ]
      }
     ],
     "prompt_number": 16
    },
    {
     "cell_type": "markdown",
     "metadata": {},
     "source": [
      "## Line List Tools ##\n",
      "\n",
      "The LAMDA, Splatalogue, and NIST services query online resources related to spectroscopic lines.  "
     ]
    },
    {
     "cell_type": "code",
     "collapsed": false,
     "input": [
      "from astroquery.nist import Nist"
     ],
     "language": "python",
     "metadata": {},
     "outputs": [],
     "prompt_number": 17
    },
    {
     "cell_type": "code",
     "collapsed": false,
     "input": [
      "table = Nist.query(4000 * u.AA, 7000 * u.AA, linename=\"H I\")\n",
      "table"
     ],
     "language": "python",
     "metadata": {},
     "outputs": [
      {
       "html": [
        "<table id=\"table4463398416\"><thead><tr><th>Observed</th><th>Ritz</th><th>Rel.</th><th>Aki</th><th>fik</th><th>Acc.</th><th>Ei           Ek</th><th>Lower level</th><th>Upper level</th><th>Type</th><th>TP</th><th>Line</th></tr></thead><tr><td>--</td><td>4102.85985516</td><td>--</td><td>4287700.0</td><td>0.021641</td><td>AAA</td><td>10.19880570432       -    T8637 |</td><td>--</td><td>--</td><td>--</td><td>--</td><td>--</td></tr><tr><td>--</td><td>4102.86191086</td><td>--</td><td>245010.0</td><td>0.00061831</td><td>AAA</td><td>10.19880570432       -     13.22070104727</td><td>2p     | 2P*  | 1/2</td><td>6s     | 2S   | 1/2</td><td>--</td><td>T8637</td><td>--</td></tr><tr><td>--</td><td>4102.8632</td><td>--</td><td>--</td><td>--</td><td>--</td><td>--</td><td>|      |</td><td>|      |</td><td>--</td><td>--</td><td>c57</td></tr><tr><td>4102.86503481</td><td>4102.86503481</td><td>--</td><td>--</td><td>--</td><td>--</td><td>10.19881007922431    -     13.22070312129</td><td>2s     | 2S   | 1/2</td><td>6d     | 2D   | 5/2</td><td>E2</td><td>--</td><td>L11759</td></tr><tr><td>--</td><td>4102.86579134</td><td>--</td><td>2858300.0</td><td>0.014427</td><td>AAA</td><td>10.19881007922431    -    T8637 |</td><td>--</td><td>--</td><td>--</td><td>--</td><td>--</td></tr><tr><td>4102.86785074</td><td>4102.86785074</td><td>--</td><td>--</td><td>--</td><td>--</td><td>10.19881007922431    -     13.22070104727</td><td>2s     | 2S   | 1/2</td><td>6s     | 2S   | 1/2</td><td>M1</td><td>--</td><td>L11759</td></tr><tr><td>--</td><td>4102.86807252</td><td>--</td><td>2858400.0</td><td>0.0072136</td><td>AAA</td><td>10.19881007922431    -    T8637 |</td><td>--</td><td>--</td><td>--</td><td>--</td><td>--</td></tr><tr><td>4102.892</td><td>4102.8991</td><td>70000</td><td>973200.0</td><td>0.022105</td><td>AAA</td><td>10.1988353           -     13.22070331</td><td>2      |      |</td><td>6      |      |</td><td>--</td><td>T8637</td><td>L7436c29</td></tr><tr><td>--</td><td>4102.8922</td><td>--</td><td>--</td><td>--</td><td>--</td><td>--</td><td>|      |</td><td>|      |</td><td>--</td><td>--</td><td>c58</td></tr><tr><td>--</td><td>4102.92068748</td><td>--</td><td>5145000.0</td><td>0.019477</td><td>AAA</td><td>10.19885106866       -     13.22070312129</td><td>2p     | 2P*  | 3/2</td><td>6d     | 2D   | 5/2</td><td>--</td><td>T8637</td><td>--</td></tr><tr><td>--</td><td>4102.9208</td><td>--</td><td>--</td><td>--</td><td>--</td><td>--</td><td>|      |</td><td>|      |</td><td>--</td><td>--</td><td>c59</td></tr><tr><td>...</td><td>...</td><td>...</td><td>...</td><td>...</td><td>...</td><td>...</td><td>...</td><td>...</td><td>...</td><td>...</td><td>...</td></tr><tr><td>--</td><td>6564.564672</td><td>--</td><td>2104600.0</td><td>0.013597</td><td>AAA</td><td>10.19880570432       -     12.0874944326</td><td>2p     | 2P*  | 1/2</td><td>3s     | 2S   | 1/2</td><td>--</td><td>T8637</td><td>--</td></tr><tr><td>--</td><td>6564.579878</td><td>--</td><td>--</td><td>--</td><td>--</td><td>10.19881007922431    -     12.0874944326</td><td>2s     | 2S   | 1/2</td><td>3s     | 2S   | 1/2</td><td>M1</td><td>--</td><td>--</td></tr><tr><td>--</td><td>6564.583</td><td>--</td><td>--</td><td>--</td><td>--</td><td>--</td><td>|      |</td><td>|      |</td><td>--</td><td>--</td><td>c66</td></tr><tr><td>6564.584404</td><td>6564.584403</td><td>--</td><td>22449000.0</td><td>0.14503</td><td>AAA</td><td>10.19881007922431    -     12.0874931306</td><td>2s     | 2S   | 1/2</td><td>3p     | 2P*  | 1/2</td><td>--</td><td>T8637</td><td>L6891c38</td></tr><tr><td>6564.6</td><td>6564.632</td><td>500000</td><td>44101000.0</td><td>0.64108</td><td>AAA</td><td>10.1988353           -     12.0875046</td><td>2      |      |</td><td>3      |      |</td><td>--</td><td>T8637</td><td>L7400c29</td></tr><tr><td>--</td><td>6564.608</td><td>--</td><td>--</td><td>--</td><td>--</td><td>--</td><td>|      |</td><td>|      |</td><td>--</td><td>--</td><td>c69</td></tr><tr><td>6564.66464</td><td>6564.66466</td><td>--</td><td>64651000.0</td><td>0.62654</td><td>AAA</td><td>10.19885106866       -     12.0875110297</td><td>2p     | 2P*  | 3/2</td><td>3d     | 2D   | 5/2</td><td>--</td><td>T8637</td><td>L2752</td></tr><tr><td>--</td><td>6564.6662</td><td>--</td><td>--</td><td>--</td><td>--</td><td>--</td><td>|      |</td><td>|      |</td><td>--</td><td>--</td><td>c71</td></tr><tr><td>--</td><td>6564.667</td><td>--</td><td>--</td><td>--</td><td>--</td><td>--</td><td>|      |</td><td>|      |</td><td>--</td><td>--</td><td>c70</td></tr><tr><td>--</td><td>6564.680232</td><td>--</td><td>10775000.0</td><td>0.069616</td><td>AAA</td><td>10.19885106866       -     12.0875065498</td><td>2p     | 2P*  | 3/2</td><td>3d     | 2D   | 3/2</td><td>--</td><td>T8637</td><td>--</td></tr><tr><td>--</td><td>6564.722349</td><td>--</td><td>4209700.0</td><td>0.013599</td><td>AAA</td><td>10.19885106866       -     12.0874944326</td><td>2p     | 2P*  | 3/2</td><td>3s     | 2S   | 1/2</td><td>--</td><td>T8637</td><td>--</td></tr></table>"
       ],
       "metadata": {},
       "output_type": "pyout",
       "prompt_number": 18,
       "text": [
        "<Table rows=53 names=('Observed','Ritz','Rel.','Aki','fik','Acc.','Ei           Ek','Lower level','Upper level','Type','TP','Line')>\n",
        "masked_array(data = [ (--, 4102.85985516, --, 4287700.0, 0.021641, 'AAA', '10.19880570432       -    T8637 |', --, --, --, --, --)\n",
        " (--, 4102.86191086, --, 245010.0, 0.00061831, 'AAA', '10.19880570432       -     13.22070104727', '2p     | 2P*  | 1/2', '6s     | 2S   | 1/2', --, 'T8637', --)\n",
        " (--, 4102.8632, --, --, --, --, --, '|      |', '|      |', --, --, 'c57')\n",
        " (4102.86503481, 4102.86503481, --, --, --, --, '10.19881007922431    -     13.22070312129', '2s     | 2S   | 1/2', '6d     | 2D   | 5/2', 'E2', --, 'L11759')\n",
        " (--, 4102.86579134, --, 2858300.0, 0.014427, 'AAA', '10.19881007922431    -    T8637 |', --, --, --, --, --)\n",
        " (4102.86785074, 4102.86785074, --, --, --, --, '10.19881007922431    -     13.22070104727', '2s     | 2S   | 1/2', '6s     | 2S   | 1/2', 'M1', --, 'L11759')\n",
        " (--, 4102.86807252, --, 2858400.0, 0.0072136, 'AAA', '10.19881007922431    -    T8637 |', --, --, --, --, --)\n",
        " (4102.892, 4102.8991, 70000, 973200.0, 0.022105, 'AAA', '10.1988353           -     13.22070331', '2      |      |', '6      |      |', --, 'T8637', 'L7436c29')\n",
        " (--, 4102.8922, --, --, --, --, --, '|      |', '|      |', --, --, 'c58')\n",
        " (--, 4102.92068748, --, 5145000.0, 0.019477, 'AAA', '10.19885106866       -     13.22070312129', '2p     | 2P*  | 3/2', '6d     | 2D   | 5/2', --, 'T8637', --)\n",
        " (--, 4102.9208, --, --, --, --, --, '|      |', '|      |', --, --, 'c59')\n",
        " (--, 4102.92144772, --, 857480.0, 0.0021641, 'AAA', '10.19885106866       -    T8637 |', --, --, --, --, --)\n",
        " (--, 4102.92350348, --, 490060.0, 0.00061839, 'AAA', '10.19885106866       -     13.22070104727', '2p     | 2P*  | 3/2', '6s     | 2S   | 1/2', --, 'T8637', --)\n",
        " (--, 4341.647191, --, 7854800.0, 0.044395, 'AAA', '10.19880570432       -     13.0545005033', '2p     | 2P*  | 1/2', '5d     | 2D   | 3/2', --, 'T8637', --)\n",
        " (--, 4341.6512, --, --, --, --, --, '|      |', '|      |', --, --, 'c60')\n",
        " (--, 4341.651159, --, 429550.0, 0.0012139, 'AAA', '10.19880570432       -    T8637 |', --, --, --, --, --)\n",
        " (--, 4341.653824, --, 4948300.0, 0.027968, 'AAA', '10.19881007922431    -     13.054500515', '2s     | 2S   | 1/2', '5p     | 2P*  | 3/2', --, 'T8637', --)\n",
        " (--, 4341.657809, --, --, --, --, '10.19881007922431    -    M1 |        |', '|', --, --, --, --)\n",
        " (--, 4341.658239, --, 4948400.0, 0.013984, 'AAA', '10.19881007922431    -     13.054497612', '2s     | 2S   | 1/2', '5p     | 2P*  | 1/2', --, 'T8637', --)\n",
        " (--, 4341.6837, --, --, --, --, --, '|      |', '|      |', --, --, 'c61')\n",
        " (4341.692, 4341.691, 90000, 2530400.0, 0.044694, 'AAA', '10.1988353           -     13.0545011', '2      |      |', '5      |      |', --, 'T8637', 'L7436c29')\n",
        " (--, 4341.71469, --, 9425400.0, 0.039955, 'AAA', '10.19885106866       -    T8637 |', --, --, --, --, --)\n",
        " (--, 4341.715, --, --, --, --, --, '|      |', '|      |', --, --, 'c62')\n",
        " (--, 4341.716161, --, 1570900.0, 0.0044394, 'AAA', '10.19885106866       -     13.0545005033', '2p     | 2P*  | 3/2', '5d     | 2D   | 3/2', --, 'T8637', --)\n",
        " (--, 4341.720129, --, 859200.0, 0.0012141, 'AAA', '10.19885106866       -    T8637 |', --, --, --, --, --)\n",
        " (--, 4862.6365621, --, 17188000.0, 0.12186, 'AAA', '10.19880570432       -     12.7485375510', '2p     | 2P*  | 1/2', '4d     | 2D   | 3/2', --, 'T8637', --)\n",
        " (4862.64130281, 4862.64130279, --, --, --, --, '10.19881007922431    -     12.74853944012', '2s     | 2S   | 1/2', '4d     | 2D   | 5/2', 'E2', --, 'L9496')\n",
        " (--, 4862.642, --, --, --, --, --, '|      |', '|      |', --, --, 'c63')\n",
        " (4862.64488967, 4862.64488968, --, 9668000.0, 0.068544, 'AAA', '10.19881007922431    -     12.74853755933', '2s     | 2S   | 1/2', '4p     | 2P*  | 3/2', --, 'T8637', 'L9477')\n",
        " (--, 4862.64631086, --, 859410.0, 0.0030465, 'AAA', '10.19880570432       -     12.74853243923', '2p     | 2P*  | 1/2', '4s     | 2S   | 1/2', --, 'T8637', --)\n",
        " (4862.65465436, 4862.65465436, --, --, --, --, '10.19881007922431    -     12.74853243923', '2s     | 2S   | 1/2', '4s     | 2S   | 1/2', 'M1', --, 'L9496')\n",
        " (4862.65570391, 4862.6557039, --, 9668300.0, 0.034273, 'AAA', '10.19881007922431    -     12.74853188891', '2s     | 2S   | 1/2', '4p     | 2P*  | 1/2', --, 'T8637', 'L9477')\n",
        " (--, 4862.683, --, --, --, --, --, '|      |', '|      |', --, --, 'c64')\n",
        " (4862.71, 4862.691, 180000, 8419300.0, 0.11938, 'AAA', '10.1988353           -     12.7485388', '2      |      |', '4      |      |', --, 'T8637', 'L7439c30')\n",
        " (--, 4862.71947586, --, 20625000.0, 0.10967, 'AAA', '10.19885106866       -     12.74853944012', '2p     | 2P*  | 3/2', '4d     | 2D   | 5/2', --, 'T8637', --)\n",
        " (--, 4862.7202, --, --, --, --, --, '|      |', '|      |', --, --, 'c65')\n",
        " (--, 4862.7230787, --, 3437500.0, 0.012186, 'AAA', '10.19885106866       -     12.7485375510', '2p     | 2P*  | 3/2', '4d     | 2D   | 3/2', --, 'T8637', --)\n",
        " (--, 4862.73282785, --, 1719000.0, 0.0030469, 'AAA', '10.19885106866       -     12.74853243923', '2p     | 2P*  | 3/2', '4s     | 2S   | 1/2', --, 'T8637', --)\n",
        " (6564.522552, 6564.522555, --, 53877000.0, 0.69614, 'AAA', '10.19880570432       -     12.0875065498', '2p     | 2P*  | 1/2', '3d     | 2D   | 3/2', --, 'T8637', 'L2752')\n",
        " (--, 6564.527, --, --, --, --, --, '|      |', '|      |', --, --, 'c67')\n",
        " (--, 6564.535, --, --, --, --, --, '|      |', '|      |', --, --, 'c68')\n",
        " (6564.537684, 6564.537684, --, 22448000.0, 0.29005, 'AAA', '10.19881007922431    -     12.0875065719', '2s     | 2S   | 1/2', '3p     | 2P*  | 3/2', --, 'T8637', 'L6891c38')\n",
        " (--, 6564.564672, --, 2104600.0, 0.013597, 'AAA', '10.19880570432       -     12.0874944326', '2p     | 2P*  | 1/2', '3s     | 2S   | 1/2', --, 'T8637', --)\n",
        " (--, 6564.579878, --, --, --, --, '10.19881007922431    -     12.0874944326', '2s     | 2S   | 1/2', '3s     | 2S   | 1/2', 'M1', --, --)\n",
        " (--, 6564.583, --, --, --, --, --, '|      |', '|      |', --, --, 'c66')\n",
        " (6564.584404, 6564.584403, --, 22449000.0, 0.14503, 'AAA', '10.19881007922431    -     12.0874931306', '2s     | 2S   | 1/2', '3p     | 2P*  | 1/2', --, 'T8637', 'L6891c38')\n",
        " (6564.6, 6564.632, 500000, 44101000.0, 0.64108, 'AAA', '10.1988353           -     12.0875046', '2      |      |', '3      |      |', --, 'T8637', 'L7400c29')\n",
        " (--, 6564.608, --, --, --, --, --, '|      |', '|      |', --, --, 'c69')\n",
        " (6564.66464, 6564.66466, --, 64651000.0, 0.62654, 'AAA', '10.19885106866       -     12.0875110297', '2p     | 2P*  | 3/2', '3d     | 2D   | 5/2', --, 'T8637', 'L2752')\n",
        " (--, 6564.6662, --, --, --, --, --, '|      |', '|      |', --, --, 'c71')\n",
        " (--, 6564.667, --, --, --, --, --, '|      |', '|      |', --, --, 'c70')\n",
        " (--, 6564.680232, --, 10775000.0, 0.069616, 'AAA', '10.19885106866       -     12.0875065498', '2p     | 2P*  | 3/2', '3d     | 2D   | 3/2', --, 'T8637', --)\n",
        " (--, 6564.722349, --, 4209700.0, 0.013599, 'AAA', '10.19885106866       -     12.0874944326', '2p     | 2P*  | 3/2', '3s     | 2S   | 1/2', --, 'T8637', --)],\n",
        "             mask = [ (True, False, True, False, False, False, False, True, True, True, True, True)\n",
        " (True, False, True, False, False, False, False, False, False, True, False, True)\n",
        " (True, False, True, True, True, True, True, False, False, True, True, False)\n",
        " (False, False, True, True, True, True, False, False, False, False, True, False)\n",
        " (True, False, True, False, False, False, False, True, True, True, True, True)\n",
        " (False, False, True, True, True, True, False, False, False, False, True, False)\n",
        " (True, False, True, False, False, False, False, True, True, True, True, True)\n",
        " (False, False, False, False, False, False, False, False, False, True, False, False)\n",
        " (True, False, True, True, True, True, True, False, False, True, True, False)\n",
        " (True, False, True, False, False, False, False, False, False, True, False, True)\n",
        " (True, False, True, True, True, True, True, False, False, True, True, False)\n",
        " (True, False, True, False, False, False, False, True, True, True, True, True)\n",
        " (True, False, True, False, False, False, False, False, False, True, False, True)\n",
        " (True, False, True, False, False, False, False, False, False, True, False, True)\n",
        " (True, False, True, True, True, True, True, False, False, True, True, False)\n",
        " (True, False, True, False, False, False, False, True, True, True, True, True)\n",
        " (True, False, True, False, False, False, False, False, False, True, False, True)\n",
        " (True, False, True, True, True, True, False, False, True, True, True, True)\n",
        " (True, False, True, False, False, False, False, False, False, True, False, True)\n",
        " (True, False, True, True, True, True, True, False, False, True, True, False)\n",
        " (False, False, False, False, False, False, False, False, False, True, False, False)\n",
        " (True, False, True, False, False, False, False, True, True, True, True, True)\n",
        " (True, False, True, True, True, True, True, False, False, True, True, False)\n",
        " (True, False, True, False, False, False, False, False, False, True, False, True)\n",
        " (True, False, True, False, False, False, False, True, True, True, True, True)\n",
        " (True, False, True, False, False, False, False, False, False, True, False, True)\n",
        " (False, False, True, True, True, True, False, False, False, False, True, False)\n",
        " (True, False, True, True, True, True, True, False, False, True, True, False)\n",
        " (False, False, True, False, False, False, False, False, False, True, False, False)\n",
        " (True, False, True, False, False, False, False, False, False, True, False, True)\n",
        " (False, False, True, True, True, True, False, False, False, False, True, False)\n",
        " (False, False, True, False, False, False, False, False, False, True, False, False)\n",
        " (True, False, True, True, True, True, True, False, False, True, True, False)\n",
        " (False, False, False, False, False, False, False, False, False, True, False, False)\n",
        " (True, False, True, False, False, False, False, False, False, True, False, True)\n",
        " (True, False, True, True, True, True, True, False, False, True, True, False)\n",
        " (True, False, True, False, False, False, False, False, False, True, False, True)\n",
        " (True, False, True, False, False, False, False, False, False, True, False, True)\n",
        " (False, False, True, False, False, False, False, False, False, True, False, False)\n",
        " (True, False, True, True, True, True, True, False, False, True, True, False)\n",
        " (True, False, True, True, True, True, True, False, False, True, True, False)\n",
        " (False, False, True, False, False, False, False, False, False, True, False, False)\n",
        " (True, False, True, False, False, False, False, False, False, True, False, True)\n",
        " (True, False, True, True, True, True, False, False, False, False, True, True)\n",
        " (True, False, True, True, True, True, True, False, False, True, True, False)\n",
        " (False, False, True, False, False, False, False, False, False, True, False, False)\n",
        " (False, False, False, False, False, False, False, False, False, True, False, False)\n",
        " (True, False, True, True, True, True, True, False, False, True, True, False)\n",
        " (False, False, True, False, False, False, False, False, False, True, False, False)\n",
        " (True, False, True, True, True, True, True, False, False, True, True, False)\n",
        " (True, False, True, True, True, True, True, False, False, True, True, False)\n",
        " (True, False, True, False, False, False, False, False, False, True, False, True)\n",
        " (True, False, True, False, False, False, False, False, False, True, False, True)],\n",
        "       fill_value = (1e+20, 1e+20, 999999, 1e+20, 1e+20, 'N/A', 'N/A', 'N/A', 'N/A', 'N/', 'N/A', 'N/A'),\n",
        "            dtype = [('Observed', '<f8'), ('Ritz', '<f8'), ('Rel.', '<i8'), ('Aki', '<f8'), ('fik', '<f8'), ('Acc.', 'S3'), ('Ei           Ek', 'S41'), ('Lower level', 'S19'), ('Upper level', 'S19'), ('Type', 'S2'), ('TP', 'S5'), ('Line', 'S8')])"
       ]
      }
     ],
     "prompt_number": 18
    },
    {
     "cell_type": "code",
     "collapsed": false,
     "input": [
      "from astroquery.splatalogue import Splatalogue"
     ],
     "language": "python",
     "metadata": {},
     "outputs": [],
     "prompt_number": 19
    },
    {
     "cell_type": "markdown",
     "metadata": {},
     "source": [
      "Splatalogue provides access to mm lines."
     ]
    },
    {
     "cell_type": "code",
     "collapsed": false,
     "input": [
      "just_CO = Splatalogue.get_species_ids(' CO ') # note the spaces\n",
      "just_CO"
     ],
     "language": "python",
     "metadata": {},
     "outputs": [
      {
       "metadata": {},
       "output_type": "pyout",
       "prompt_number": 20,
       "text": [
        "{u'02812 CO v = 0 - Carbon Monoxide': u'204',\n",
        " u'02813 CO v = 1 - Carbon Monoxide': u'990',\n",
        " u'02814 CO v = 2 - Carbon Monoxide': u'991',\n",
        " u'02815 CO v = 3 - Carbon Monoxide': u'1343'}"
       ]
      }
     ],
     "prompt_number": 20
    },
    {
     "cell_type": "code",
     "collapsed": false,
     "input": [
      "CO2to1 = Splatalogue.query_lines(1*u.mm, 2*u.mm, chemical_name=\" CO \",\n",
      "                                 only_NRAO_recommended=True,\n",
      "                                 energy_max=50, energy_type='eu_k')\n",
      "CO2to1"
     ],
     "language": "python",
     "metadata": {},
     "outputs": [
      {
       "html": [
        "<table id=\"table4463695760\"><thead><tr><th>Species</th><th>Chemical Name</th><th>Freq-GHz</th><th>Freq Err</th><th>Meas Freq-GHz</th><th>Meas Freq Err</th><th>Resolved QNs</th><th>CDMS/JPL Intensity</th><th>S&lt;sub&gt;ij&lt;/sub&gt;</th><th>Log&lt;sub&gt;10&lt;/sub&gt; (A&lt;sub&gt;ij&lt;/sub&gt;)</th><th>Lovas/AST Intensity</th><th>E_L (cm^-1)</th><th>E_L (K)</th><th>E_U (cm^-1)</th><th>E_U (K)</th><th>Linelist</th></tr></thead><tr><td>COv=0</td><td>Carbon Monoxide</td><td>230.538</td><td>0</td><td>230.538</td><td>1e-06</td><td>2-1</td><td>0.0</td><td>2.0</td><td>-6.16011</td><td>70.0</td><td>3.845</td><td>5.53207</td><td>11.53492</td><td>16.59608</td><td>SLAIM</td></tr></table>"
       ],
       "metadata": {},
       "output_type": "pyout",
       "prompt_number": 21,
       "text": [
        "<Table rows=1 names=('Species','Chemical Name','Freq-GHz','Freq Err','Meas Freq-GHz','Meas Freq Err','Resolved QNs','CDMS/JPL Intensity','S<sub>ij</sub>','Log<sub>10</sub> (A<sub>ij</sub>)','Lovas/AST Intensity','E_L (cm^-1)','E_L (K)','E_U (cm^-1)','E_U (K)','Linelist')>\n",
        "array([ ('COv=0', 'Carbon Monoxide', 230.538, 0, 230.538, 1e-06, '2-1', 0.0, 2.0, -6.16011, 70.0, 3.845, 5.53207, 11.53492, 16.59608, 'SLAIM')], \n",
        "      dtype=[('Species', 'S5'), ('Chemical Name', 'S15'), ('Freq-GHz', '<f8'), ('Freq Err', '<i8'), ('Meas Freq-GHz', '<f8'), ('Meas Freq Err', '<f8'), ('Resolved QNs', 'S3'), ('CDMS/JPL Intensity', '<f8'), ('S<sub>ij</sub>', '<f8'), ('Log<sub>10</sub> (A<sub>ij</sub>)', '<f8'), ('Lovas/AST Intensity', '<f8'), ('E_L (cm^-1)', '<f8'), ('E_L (K)', '<f8'), ('E_U (cm^-1)', '<f8'), ('E_U (K)', '<f8'), ('Linelist', 'S5')])"
       ]
      }
     ],
     "prompt_number": 21
    },
    {
     "cell_type": "markdown",
     "metadata": {},
     "source": [
      "## Vizier ## \n",
      "Vizier is the main depository of published catalogs.  It provides some very powerful interfaces including an x-match (cross-matching) service.  \n",
      "\n",
      "Vizier queries return [TableList](astroquery.readthedocs.org/en/latest/api/astroquery.utils.TableList.html#astroquery.utils.TableList)s of tables instead of individual tables."
     ]
    },
    {
     "cell_type": "code",
     "collapsed": false,
     "input": [
      "from astroquery.vizier import Vizier"
     ],
     "language": "python",
     "metadata": {},
     "outputs": [],
     "prompt_number": 22
    },
    {
     "cell_type": "code",
     "collapsed": false,
     "input": [
      "velocity_catalogs = Vizier(columns=['all'], ucd='(spect.dopplerVeloc*|phys.veloc*)',\n",
      "                           keywords=['Radio','IR'], row_limit=500)\n",
      "velocity_catalogs"
     ],
     "language": "python",
     "metadata": {},
     "outputs": [
      {
       "metadata": {},
       "output_type": "pyout",
       "prompt_number": 23,
       "text": [
        "<astroquery.vizier.core.VizierClass at 0x10c099210>"
       ]
      }
     ],
     "prompt_number": 23
    },
    {
     "cell_type": "markdown",
     "metadata": {},
     "source": [
      "A particularly powerful example - search for guide stars within a set radius of your target sources.\n",
      "\n",
      "The following queries only a specific catalog of AGN - ``VII/258/vv10`` - for sources with $10 < M_V < 11$.\n",
      "\n",
      "Note the trailing ``[0]`` because the return is a [TableList](astroquery.readthedocs.org/en/latest/api/astroquery.utils.TableList.html#astroquery.utils.TableList)"
     ]
    },
    {
     "cell_type": "code",
     "collapsed": false,
     "input": [
      "agn = Vizier(catalog=\"VII/258/vv10\").query_constraints(Vmag=\"10.0..11.0\")[0]\n",
      "agn"
     ],
     "language": "python",
     "metadata": {},
     "outputs": [
      {
       "output_type": "stream",
       "stream": "stderr",
       "text": [
        "/Users/adam/repos/astroquery/astroquery/vizier/core.py:543: UserWarning: VOTABLE parsing raised exception: \n",
        "  warnings.warn(\"VOTABLE parsing raised exception: {0}\".format(ex))\n"
       ]
      },
      {
       "html": [
        "<table id=\"table4496976016\"><thead><tr><th>_RAJ2000</th><th>_DEJ2000</th><th>Cl</th><th>nR</th><th>Name</th><th>n_RAJ2000</th><th>RAJ2000</th><th>DEJ2000</th><th>l_z</th><th>z</th><th>Sp</th><th>n_Vmag</th><th>Vmag</th><th>B-V</th><th>r_z</th></tr></thead><thead><tr><th>deg</th><th>deg</th><th></th><th></th><th></th><th></th><th>&quot;h:m:s&quot;</th><th>&quot;d:m:s&quot;</th><th></th><th></th><th></th><th></th><th>mag</th><th>mag</th><th></th></tr></thead><tr><td>10.6846</td><td>41.2694</td><td>Q</td><td></td><td>M 31</td><td>O</td><td>00 42 44.3</td><td>+41 16 10</td><td></td><td>0.000</td><td>S2</td><td></td><td>10.57</td><td>1.08</td><td>1936</td></tr><tr><td>60.2779</td><td>-16.1108</td><td>Q</td><td></td><td>NPM1G-16.0168</td><td>O</td><td>04 01 06.7</td><td>-16 06 39</td><td></td><td>0.031</td><td></td><td>R</td><td>10.16</td><td>nan</td><td>988</td></tr><tr><td>27.2387</td><td>5.9067</td><td>A</td><td>*</td><td>NGC  676</td><td></td><td>01 48 57.3</td><td>+05 54 24</td><td></td><td>0.005</td><td>S2</td><td></td><td>10.50</td><td>nan</td><td>1034</td></tr><tr><td>40.6696</td><td>-0.0131</td><td>A</td><td></td><td>NGC 1068</td><td>O</td><td>02 42 40.7</td><td>-00 00 47</td><td></td><td>0.003</td><td>S1h</td><td></td><td>10.83</td><td>0.87</td><td>58</td></tr><tr><td>139.7596</td><td>26.2697</td><td>A</td><td></td><td>NGC 2824</td><td>O</td><td>09 19 02.3</td><td>+26 16 11</td><td></td><td>0.008</td><td>S?</td><td></td><td>10.88</td><td>nan</td><td>2528</td></tr><tr><td>147.5921</td><td>72.2792</td><td>A</td><td></td><td>NGC 2985</td><td>O</td><td>09 50 22.1</td><td>+72 16 45</td><td></td><td>0.004</td><td>S1.9</td><td></td><td>10.61</td><td>0.76</td><td>1033</td></tr><tr><td>173.1442</td><td>53.0678</td><td>A</td><td></td><td>NGC 3718</td><td>O</td><td>11 32 34.6</td><td>+53 04 04</td><td></td><td>0.003</td><td>S3b</td><td></td><td>10.61</td><td>0.74</td><td>1033</td></tr><tr><td>184.9608</td><td>29.6139</td><td>A</td><td></td><td>UGC  7377</td><td>O</td><td>12 19 50.6</td><td>+29 36 50</td><td></td><td>0.003</td><td>S3</td><td></td><td>10.47</td><td>0.99</td><td>2500</td></tr><tr><td>185.0287</td><td>29.2808</td><td>A</td><td></td><td>NGC 4278</td><td>O</td><td>12 20 06.9</td><td>+29 16 51</td><td></td><td>0.002</td><td>S3b</td><td></td><td>10.87</td><td>0.98</td><td>1033</td></tr><tr><td>186.4537</td><td>33.5467</td><td>A</td><td></td><td>NGC 4395</td><td>O</td><td>12 25 48.9</td><td>+33 32 48</td><td></td><td>0.001</td><td>S1.8</td><td></td><td>10.27</td><td>0.53</td><td>1033</td></tr><tr><td>192.7196</td><td>41.1194</td><td>A</td><td></td><td>NGC 4736</td><td>O</td><td>12 50 52.7</td><td>+41 07 10</td><td></td><td>0.001</td><td>S</td><td></td><td>10.85</td><td>0.85</td><td>1032</td></tr><tr><td>208.3612</td><td>40.2831</td><td>A</td><td></td><td>NGC 5353</td><td>O</td><td>13 53 26.7</td><td>+40 16 59</td><td></td><td>0.008</td><td>S?</td><td>R</td><td>10.91</td><td>nan</td><td>368</td></tr></table>"
       ],
       "metadata": {},
       "output_type": "pyout",
       "prompt_number": 24,
       "text": [
        "<Table rows=12 names=('_RAJ2000','_DEJ2000','Cl','nR','Name','n_RAJ2000','RAJ2000','DEJ2000','l_z','z','Sp','n_Vmag','Vmag','B-V','r_z') units=('deg','deg',None,None,None,None,'\"h:m:s\"','\"d:m:s\"',None,None,None,None,'mag','mag',None)>\n",
        "masked_array(data = [ (10.6846, 41.2694, 'Q', '', 'M 31', 'O', '00 42 44.3', '+41 16 10', '', 0.0, 'S2', '', 10.569999694824219, 1.0800000429153442, 1936)\n",
        " (60.2779, -16.1108, 'Q', '', 'NPM1G-16.0168', 'O', '04 01 06.7', '-16 06 39', '', 0.03099999949336052, '', 'R', 10.15999984741211, --, 988)\n",
        " (27.2387, 5.9067, 'A', '*', 'NGC  676', '', '01 48 57.3', '+05 54 24', '', 0.004999999888241291, 'S2', '', 10.5, --, 1034)\n",
        " (40.6696, -0.0131, 'A', '', 'NGC 1068', 'O', '02 42 40.7', '-00 00 47', '', 0.003000000026077032, 'S1h', '', 10.829999923706055, 0.8700000047683716, 58)\n",
        " (139.7596, 26.2697, 'A', '', 'NGC 2824', 'O', '09 19 02.3', '+26 16 11', '', 0.00800000037997961, 'S?', '', 10.880000114440918, --, 2528)\n",
        " (147.5921, 72.2792, 'A', '', 'NGC 2985', 'O', '09 50 22.1', '+72 16 45', '', 0.004000000189989805, 'S1.9', '', 10.609999656677246, 0.7599999904632568, 1033)\n",
        " (173.1442, 53.0678, 'A', '', 'NGC 3718', 'O', '11 32 34.6', '+53 04 04', '', 0.003000000026077032, 'S3b', '', 10.609999656677246, 0.7400000095367432, 1033)\n",
        " (184.9608, 29.6139, 'A', '', 'UGC  7377', 'O', '12 19 50.6', '+29 36 50', '', 0.003000000026077032, 'S3', '', 10.470000267028809, 0.9900000095367432, 2500)\n",
        " (185.0287, 29.2808, 'A', '', 'NGC 4278', 'O', '12 20 06.9', '+29 16 51', '', 0.0020000000949949026, 'S3b', '', 10.869999885559082, 0.9800000190734863, 1033)\n",
        " (186.4537, 33.5467, 'A', '', 'NGC 4395', 'O', '12 25 48.9', '+33 32 48', '', 0.0010000000474974513, 'S1.8', '', 10.270000457763672, 0.5299999713897705, 1033)\n",
        " (192.7196, 41.1194, 'A', '', 'NGC 4736', 'O', '12 50 52.7', '+41 07 10', '', 0.0010000000474974513, 'S', '', 10.850000381469727, 0.8500000238418579, 1032)\n",
        " (208.3612, 40.2831, 'A', '', 'NGC 5353', 'O', '13 53 26.7', '+40 16 59', '', 0.00800000037997961, 'S?', 'R', 10.90999984741211, --, 368)],\n",
        "             mask = [ (False, False, False, False, False, False, False, False, False, False, False, False, False, False, False)\n",
        " (False, False, False, False, False, False, False, False, False, False, False, False, False, True, False)\n",
        " (False, False, False, False, False, False, False, False, False, False, False, False, False, True, False)\n",
        " (False, False, False, False, False, False, False, False, False, False, False, False, False, False, False)\n",
        " (False, False, False, False, False, False, False, False, False, False, False, False, False, True, False)\n",
        " (False, False, False, False, False, False, False, False, False, False, False, False, False, False, False)\n",
        " (False, False, False, False, False, False, False, False, False, False, False, False, False, False, False)\n",
        " (False, False, False, False, False, False, False, False, False, False, False, False, False, False, False)\n",
        " (False, False, False, False, False, False, False, False, False, False, False, False, False, False, False)\n",
        " (False, False, False, False, False, False, False, False, False, False, False, False, False, False, False)\n",
        " (False, False, False, False, False, False, False, False, False, False, False, False, False, False, False)\n",
        " (False, False, False, False, False, False, False, False, False, False, False, False, False, True, False)],\n",
        "       fill_value = (1e+20, 1e+20, 'N', 'N', 'N/A', 'N', 'N/A', 'N/A', 'N', 1.0000000200408773e+20, 'N/A', 'N', 1.0000000200408773e+20, 1.0000000200408773e+20, 16959),\n",
        "            dtype = [('_RAJ2000', '<f8'), ('_DEJ2000', '<f8'), ('Cl', 'S1'), ('nR', 'S1'), ('Name', 'S17'), ('n_RAJ2000', 'S1'), ('RAJ2000', 'S10'), ('DEJ2000', 'S9'), ('l_z', 'S1'), ('z', '<f4'), ('Sp', 'S4'), ('n_Vmag', 'S1'), ('Vmag', '<f4'), ('B-V', '<f4'), ('r_z', '<i2')])"
       ]
      }
     ],
     "prompt_number": 24
    },
    {
     "cell_type": "markdown",
     "metadata": {},
     "source": [
      "The guide star catalog, ``II/246``, is then queried with the restriction that the guide star must have $M_K<9$ around the selected AGN, given that the distance between the guide star and the AGN is $2\" < r < 30\"$."
     ]
    },
    {
     "cell_type": "code",
     "collapsed": false,
     "input": [
      "guide = Vizier(catalog=\"II/246\", column_filters={\"Kmag\":\"<9.0\"}).query_region(agn, radius=\"30s\", inner_radius=\"2s\")[0]\n",
      "guide"
     ],
     "language": "python",
     "metadata": {},
     "outputs": [
      {
       "output_type": "stream",
       "stream": "stderr",
       "text": [
        "WARNING: MergeConflictWarning: Cannot merge meta key u'null' types <type 'float'> and <type 'float'>, choosing null=nan [astropy.utils.metadata]\n",
        "WARNING:astropy:MergeConflictWarning: Cannot merge meta key u'null' types <type 'float'> and <type 'float'>, choosing null=nan\n"
       ]
      },
      {
       "html": [
        "<table id=\"table4494433936\"><thead><tr><th>_q</th><th>_RAJ2000</th><th>_DEJ2000</th><th>RAJ2000</th><th>DEJ2000</th><th>_2MASS</th><th>Jmag</th><th>e_Jmag</th><th>Hmag</th><th>e_Hmag</th><th>Kmag</th><th>e_Kmag</th><th>Qflg</th><th>Rflg</th><th>Bflg</th><th>Cflg</th><th>Xflg</th><th>Aflg</th></tr></thead><thead><tr><th></th><th>deg</th><th>deg</th><th>deg</th><th>deg</th><th></th><th>mag</th><th>mag</th><th>mag</th><th>mag</th><th>mag</th><th>mag</th><th></th><th></th><th></th><th></th><th></th><th></th></tr></thead><tr><td>1</td><td>10.686015</td><td>41.269630</td><td>10.686015</td><td>41.269630</td><td>00424464+4116106</td><td>9.399</td><td>nan</td><td>9.985</td><td>0.070</td><td>8.429</td><td>nan</td><td>UEU</td><td>020</td><td>020</td><td>0c0</td><td>2</td><td>0</td></tr><tr><td>1</td><td>10.685657</td><td>41.269550</td><td>10.685657</td><td>41.269550</td><td>00424455+4116103</td><td>10.773</td><td>0.069</td><td>8.532</td><td>nan</td><td>8.254</td><td>nan</td><td>EUU</td><td>200</td><td>200</td><td>c00</td><td>2</td><td>0</td></tr><tr><td>1</td><td>10.685837</td><td>41.270599</td><td>10.685837</td><td>41.270599</td><td>00424460+4116141</td><td>9.880</td><td>nan</td><td>12.051</td><td>0.068</td><td>8.934</td><td>nan</td><td>UAU</td><td>020</td><td>020</td><td>0c0</td><td>2</td><td>0</td></tr><tr><td>1</td><td>10.683263</td><td>41.267456</td><td>10.683263</td><td>41.267456</td><td>00424398+4116028</td><td>12.136</td><td>0.040</td><td>9.226</td><td>nan</td><td>8.994</td><td>nan</td><td>AUU</td><td>200</td><td>100</td><td>c00</td><td>2</td><td>0</td></tr><tr><td>1</td><td>10.683465</td><td>41.269676</td><td>10.683465</td><td>41.269676</td><td>00424403+4116108</td><td>11.507</td><td>0.056</td><td>8.744</td><td>nan</td><td>8.489</td><td>nan</td><td>EUU</td><td>200</td><td>100</td><td>c00</td><td>2</td><td>0</td></tr><tr><td>3</td><td>27.238636</td><td>5.906066</td><td>27.238636</td><td>5.906066</td><td>01485727+0554218</td><td>8.961</td><td>0.027</td><td>8.607</td><td>0.044</td><td>8.581</td><td>0.034</td><td>AAA</td><td>112</td><td>111</td><td>000</td><td>0</td><td>0</td></tr><tr><td>4</td><td>40.669277</td><td>-0.014225</td><td>40.669277</td><td>-0.014225</td><td>02424062-0000512</td><td>11.795</td><td>0.023</td><td>8.801</td><td>nan</td><td>7.780</td><td>nan</td><td>EUU</td><td>200</td><td>100</td><td>c00</td><td>2</td><td>0</td></tr><tr><td>4</td><td>40.668802</td><td>-0.013064</td><td>40.668802</td><td>-0.013064</td><td>02424051-0000470</td><td>11.849</td><td>0.024</td><td>8.747</td><td>nan</td><td>8.223</td><td>nan</td><td>EUU</td><td>200</td><td>100</td><td>c00</td><td>2</td><td>0</td></tr><tr><td>4</td><td>40.669219</td><td>-0.012236</td><td>40.669219</td><td>-0.012236</td><td>02424061-0000440</td><td>12.276</td><td>0.024</td><td>9.101</td><td>nan</td><td>8.167</td><td>nan</td><td>EUU</td><td>200</td><td>100</td><td>c00</td><td>2</td><td>0</td></tr><tr><td>4</td><td>40.670761</td><td>-0.012208</td><td>40.670761</td><td>-0.012208</td><td>02424098-0000439</td><td>12.119</td><td>0.070</td><td>9.442</td><td>nan</td><td>8.886</td><td>nan</td><td>EUU</td><td>200</td><td>100</td><td>c00</td><td>2</td><td>0</td></tr><tr><td>4</td><td>40.670177</td><td>-0.012830</td><td>40.670177</td><td>-0.012830</td><td>02424084-0000461</td><td>11.381</td><td>0.173</td><td>8.636</td><td>nan</td><td>8.112</td><td>nan</td><td>EUU</td><td>200</td><td>100</td><td>c00</td><td>2</td><td>0</td></tr><tr><td>11</td><td>192.721982</td><td>41.121040</td><td>192.721982</td><td>41.121040</td><td>12505327+4107157</td><td>10.822</td><td>0.037</td><td>8.539</td><td>nan</td><td>8.242</td><td>nan</td><td>EUU</td><td>200</td><td>100</td><td>c00</td><td>2</td><td>0</td></tr><tr><td>11</td><td>192.721179</td><td>41.120201</td><td>192.721179</td><td>41.120201</td><td>12505308+4107127</td><td>9.306</td><td>0.055</td><td>8.742</td><td>0.074</td><td>8.492</td><td>0.067</td><td>EEE</td><td>222</td><td>111</td><td>000</td><td>2</td><td>0</td></tr></table>"
       ],
       "metadata": {},
       "output_type": "pyout",
       "prompt_number": 25,
       "text": [
        "<Table rows=13 names=('_q','_RAJ2000','_DEJ2000','RAJ2000','DEJ2000','_2MASS','Jmag','e_Jmag','Hmag','e_Hmag','Kmag','e_Kmag','Qflg','Rflg','Bflg','Cflg','Xflg','Aflg') units=(None,'deg','deg','deg','deg',None,'mag','mag','mag','mag','mag','mag',None,None,None,None,None,None)>\n",
        "masked_array(data = [ (1, 10.686015, 41.26963, 10.686015, 41.26963, '00424464+4116106', 9.39900016784668, --, 9.984999656677246, 0.07000000029802322, 8.428999900817871, --, 'UEU', '020', '020', '0c0', 2, 0)\n",
        " (1, 10.685657, 41.26955, 10.685657, 41.26955, '00424455+4116103', 10.77299976348877, 0.0689999982714653, 8.531999588012695, --, 8.253999710083008, --, 'EUU', '200', '200', 'c00', 2, 0)\n",
        " (1, 10.685837, 41.270599, 10.685837, 41.270599, '00424460+4116141', 9.880000114440918, --, 12.050999641418457, 0.06800000369548798, 8.934000015258789, --, 'UAU', '020', '020', '0c0', 2, 0)\n",
        " (1, 10.683263, 41.267456, 10.683263, 41.267456, '00424398+4116028', 12.13599967956543, 0.03999999910593033, 9.22599983215332, --, 8.994000434875488, --, 'AUU', '200', '100', 'c00', 2, 0)\n",
        " (1, 10.683465, 41.269676, 10.683465, 41.269676, '00424403+4116108', 11.506999969482422, 0.0560000017285347, 8.744000434875488, --, 8.48900032043457, --, 'EUU', '200', '100', 'c00', 2, 0)\n",
        " (3, 27.238636, 5.906066, 27.238636, 5.906066, '01485727+0554218', 8.961000442504883, 0.027000000700354576, 8.607000350952148, 0.04399999976158142, 8.581000328063965, 0.03400000184774399, 'AAA', '112', '111', '000', 0, 0)\n",
        " (4, 40.669277, -0.014225, 40.669277, -0.014225, '02424062-0000512', 11.795000076293945, 0.023000000044703484, 8.800999641418457, --, 7.78000020980835, --, 'EUU', '200', '100', 'c00', 2, 0)\n",
        " (4, 40.668802, -0.013064, 40.668802, -0.013064, '02424051-0000470', 11.848999977111816, 0.024000000208616257, 8.746999740600586, --, 8.222999572753906, --, 'EUU', '200', '100', 'c00', 2, 0)\n",
        " (4, 40.669219, -0.012236, 40.669219, -0.012236, '02424061-0000440', 12.276000022888184, 0.024000000208616257, 9.10099983215332, --, 8.166999816894531, --, 'EUU', '200', '100', 'c00', 2, 0)\n",
        " (4, 40.670761, -0.012208, 40.670761, -0.012208, '02424098-0000439', 12.119000434875488, 0.07000000029802322, 9.442000389099121, --, 8.88599967956543, --, 'EUU', '200', '100', 'c00', 2, 0)\n",
        " (4, 40.670177, -0.01283, 40.670177, -0.01283, '02424084-0000461', 11.380999565124512, 0.17299999296665192, 8.63599967956543, --, 8.112000465393066, --, 'EUU', '200', '100', 'c00', 2, 0)\n",
        " (11, 192.721982, 41.12104, 192.721982, 41.12104, '12505327+4107157', 10.821999549865723, 0.03700000047683716, 8.538999557495117, --, 8.241999626159668, --, 'EUU', '200', '100', 'c00', 2, 0)\n",
        " (11, 192.721179, 41.120201, 192.721179, 41.120201, '12505308+4107127', 9.305999755859375, 0.054999999701976776, 8.741999626159668, 0.07400000095367432, 8.491999626159668, 0.06700000166893005, 'EEE', '222', '111', '000', 2, 0)],\n",
        "             mask = [ (False, False, False, False, False, False, False, True, False, False, False, True, False, False, False, False, False, False)\n",
        " (False, False, False, False, False, False, False, False, False, True, False, True, False, False, False, False, False, False)\n",
        " (False, False, False, False, False, False, False, True, False, False, False, True, False, False, False, False, False, False)\n",
        " (False, False, False, False, False, False, False, False, False, True, False, True, False, False, False, False, False, False)\n",
        " (False, False, False, False, False, False, False, False, False, True, False, True, False, False, False, False, False, False)\n",
        " (False, False, False, False, False, False, False, False, False, False, False, False, False, False, False, False, False, False)\n",
        " (False, False, False, False, False, False, False, False, False, True, False, True, False, False, False, False, False, False)\n",
        " (False, False, False, False, False, False, False, False, False, True, False, True, False, False, False, False, False, False)\n",
        " (False, False, False, False, False, False, False, False, False, True, False, True, False, False, False, False, False, False)\n",
        " (False, False, False, False, False, False, False, False, False, True, False, True, False, False, False, False, False, False)\n",
        " (False, False, False, False, False, False, False, False, False, True, False, True, False, False, False, False, False, False)\n",
        " (False, False, False, False, False, False, False, False, False, True, False, True, False, False, False, False, False, False)\n",
        " (False, False, False, False, False, False, False, False, False, False, False, False, False, False, False, False, False, False)],\n",
        "       fill_value = (999999, 1e+20, 1e+20, 1e+20, 1e+20, 'N/A', 1.0000000200408773e+20, 1.0000000200408773e+20, 1.0000000200408773e+20, 1.0000000200408773e+20, 1.0000000200408773e+20, 1.0000000200408773e+20, 'N/A', 'N/A', 'N/A', 'N/A', 63, 63),\n",
        "            dtype = [('_q', '<i4'), ('_RAJ2000', '<f8'), ('_DEJ2000', '<f8'), ('RAJ2000', '<f8'), ('DEJ2000', '<f8'), ('_2MASS', 'S17'), ('Jmag', '<f4'), ('e_Jmag', '<f4'), ('Hmag', '<f4'), ('e_Hmag', '<f4'), ('Kmag', '<f4'), ('e_Kmag', '<f4'), ('Qflg', 'S3'), ('Rflg', 'S3'), ('Bflg', 'S3'), ('Cflg', 'S3'), ('Xflg', 'u1'), ('Aflg', 'u1')])"
       ]
      }
     ],
     "prompt_number": 25
    },
    {
     "cell_type": "markdown",
     "metadata": {},
     "source": [
      "The only requirement for this type of query is that the target catalog (``agn`` in the above example) contain the columns ``_RAJ2000`` and ``_DEJ2000``, which all Vizier tables do by default.  You can make your own from any valid coordinate set."
     ]
    },
    {
     "cell_type": "code",
     "collapsed": false,
     "input": [
      "from astropy import table"
     ],
     "language": "python",
     "metadata": {},
     "outputs": [],
     "prompt_number": 26
    },
    {
     "cell_type": "code",
     "collapsed": false,
     "input": [
      "# Some well-known Galactic objects\n",
      "coordinate_list = coordinates.SkyCoord([(0.0,0.0),(49.488,-0.39),(43.1,0.07)] * u.deg, frame='galactic')\n",
      "coordinate_list"
     ],
     "language": "python",
     "metadata": {},
     "outputs": [
      {
       "metadata": {},
       "output_type": "pyout",
       "prompt_number": 27,
       "text": [
        "<SkyCoord (Galactic): (l, b) in deg\n",
        "    [(0.0, 0.0), (49.488, -0.39), (43.1, 0.07)]>"
       ]
      }
     ],
     "prompt_number": 27
    },
    {
     "cell_type": "code",
     "collapsed": false,
     "input": [
      "coord_tbl = table.Table(data=[coordinate_list.fk5.ra.deg,\n",
      "                              coordinate_list.fk5.dec.deg],\n",
      "                        names=('_RAJ2000', '_DEJ2000')\n",
      "                        )\n",
      "coord_tbl['_RAJ2000'].unit = u.deg\n",
      "coord_tbl['_DEJ2000'].unit = u.deg\n",
      "coord_tbl"
     ],
     "language": "python",
     "metadata": {},
     "outputs": [
      {
       "html": [
        "<table id=\"table4494424784\"><thead><tr><th>_RAJ2000</th><th>_DEJ2000</th></tr></thead><thead><tr><th>deg</th><th>deg</th></tr></thead><tr><td>266.404929574</td><td>-28.9362178833</td></tr><tr><td>290.934395293</td><td>14.5067674093</td></tr><tr><td>287.471975893</td><td>9.07173444604</td></tr></table>"
       ],
       "metadata": {},
       "output_type": "pyout",
       "prompt_number": 34,
       "text": [
        "<Table rows=3 names=('_RAJ2000','_DEJ2000') units=('deg','deg')>\n",
        "array([(266.4049295744125, -28.936217883314157),\n",
        "       (290.934395292749, 14.506767409259584),\n",
        "       (287.4719758931401, 9.071734446037407)], \n",
        "      dtype=[('_RAJ2000', '<f8'), ('_DEJ2000', '<f8')])"
       ]
      }
     ],
     "prompt_number": 34
    },
    {
     "cell_type": "code",
     "collapsed": false,
     "input": [
      "vlbacal = Vizier.find_catalogs('Petrov VLBA Calibrator')\n",
      "{k:v.description for k,v in vlbacal.iteritems()}"
     ],
     "language": "python",
     "metadata": {},
     "outputs": [
      {
       "metadata": {},
       "output_type": "pyout",
       "prompt_number": 30,
       "text": [
        "{u'J/AJ/126/2562': u'Second VLBA calibrator survey: VCS2 (Fomalont+, 2003)',\n",
        " u'J/AJ/129/1163': u'Third VLBA calibrator survey: VCS3 (Petrov+, 2005)',\n",
        " u'J/AJ/131/1872': u'Fourth VLBA calibrator survey: VCS4 (Petrov+, 2006)',\n",
        " u'J/AJ/133/1236': u'Fifth VLBA calibrator survey: VCS5 (Kovalev+, 2007)',\n",
        " u'J/AJ/136/580': u'Sixth VLBA calibrator survey: VCS6 (Petrov+, 2008)',\n",
        " u'J/ApJS/141/13': u'VLBA calibrator survey: VCS1 catalog (Beasley+, 2002)'}"
       ]
      }
     ],
     "prompt_number": 30
    },
    {
     "cell_type": "code",
     "collapsed": false,
     "input": [
      "vlbacal_matches = Vizier(catalog=vlbacal.keys()).query_region(coord_tbl, radius=2*u.deg)\n",
      "vlbacal_matches"
     ],
     "language": "python",
     "metadata": {},
     "outputs": [
      {
       "metadata": {},
       "output_type": "pyout",
       "prompt_number": 38,
       "text": [
        "TableList with 4 tables:\n",
        "\t'0:J/AJ/131/1872/table2' with 11 column(s) and 1 row(s) \n",
        "\t'1:J/AJ/133/1236/table2' with 7 column(s) and 1 row(s) \n",
        "\t'2:J/ApJS/141/13/table2' with 11 column(s) and 2 row(s) \n",
        "\t'3:J/AJ/129/1163/table2' with 12 column(s) and 1 row(s) "
       ]
      }
     ],
     "prompt_number": 38
    },
    {
     "cell_type": "code",
     "collapsed": false,
     "input": [
      "vlbacal_matches[0]"
     ],
     "language": "python",
     "metadata": {},
     "outputs": [
      {
       "html": [
        "<table id=\"table4494659024\"><thead><tr><th>_q</th><th>_RAJ2000</th><th>_DEJ2000</th><th>IVS</th><th>VCS4</th><th>RAJ2000</th><th>e_RAJ2000</th><th>DEJ2000</th><th>e_DEJ2000</th><th>Nobs</th><th>Band</th></tr></thead><thead><tr><th></th><th>deg</th><th>deg</th><th></th><th></th><th>&quot;h:m:s&quot;</th><th>mas</th><th>&quot;d:m:s&quot;</th><th>mas</th><th></th><th></th></tr></thead><tr><td>4</td><td>268.137946</td><td>-29.945806</td><td>1749-299</td><td>J1752-2956</td><td>17 52 33.107050</td><td>12.28</td><td>-29 56 44.90017</td><td>19.41</td><td>6</td><td>X/S</td></tr></table>"
       ],
       "metadata": {},
       "output_type": "pyout",
       "prompt_number": 39,
       "text": [
        "<Table rows=1 names=('_q','_RAJ2000','_DEJ2000','IVS','VCS4','RAJ2000','e_RAJ2000','DEJ2000','e_DEJ2000','Nobs','Band') units=(None,'deg','deg',None,None,'\"h:m:s\"','mas','\"d:m:s\"','mas',None,None)>\n",
        "masked_array(data = [ (4, 268.137946, -29.945806, '1749-299', 'J1752-2956', '17 52 33.107050', 12.279999732971191, '-29 56 44.90017', 19.40999984741211, 6, 'X/S')],\n",
        "             mask = [ (False, False, False, False, False, False, False, False, False, False, False)],\n",
        "       fill_value = (999999, 1e+20, 1e+20, 'N/A', 'N/A', 'N/A', 1.0000000200408773e+20, 'N/A', 1.0000000200408773e+20, 16959, 'N/A'),\n",
        "            dtype = [('_q', '<i4'), ('_RAJ2000', '<f8'), ('_DEJ2000', '<f8'), ('IVS', 'S8'), ('VCS4', 'S10'), ('RAJ2000', 'S15'), ('e_RAJ2000', '<f4'), ('DEJ2000', 'S15'), ('e_DEJ2000', '<f4'), ('Nobs', '<i2'), ('Band', 'S3')])"
       ]
      }
     ],
     "prompt_number": 39
    },
    {
     "cell_type": "code",
     "collapsed": false,
     "input": [
      "vlbacal_matches[2]"
     ],
     "language": "python",
     "metadata": {},
     "outputs": [
      {
       "html": [
        "<table id=\"table4496761360\"><thead><tr><th>_q</th><th>_RAJ2000</th><th>_DEJ2000</th><th>VCS1</th><th>IVS</th><th>RAJ2000</th><th>DEJ2000</th><th>e_RAJ2000</th><th>e_DEJ2000</th><th>Corr</th><th>Num</th></tr></thead><thead><tr><th></th><th>deg</th><th>deg</th><th></th><th></th><th>&quot;h:m:s&quot;</th><th>&quot;d:m:s&quot;</th><th>mas</th><th>mas</th><th></th><th></th></tr></thead><tr><td>11</td><td>290.644581</td><td>15.502787</td><td>J1922+1530</td><td>1920+154</td><td>19 22 34.699349</td><td>+15 30 10.03266</td><td>1.2334</td><td>1.1451</td><td>-0.0060</td><td>53</td></tr><tr><td>11</td><td>291.164399</td><td>15.678873</td><td>J1924+1540</td><td>1922+155</td><td>19 24 39.455874</td><td>+15 40 43.94111</td><td>0.5730</td><td>0.6869</td><td>-0.0624</td><td>70</td></tr></table>"
       ],
       "metadata": {},
       "output_type": "pyout",
       "prompt_number": 40,
       "text": [
        "<Table rows=2 names=('_q','_RAJ2000','_DEJ2000','VCS1','IVS','RAJ2000','DEJ2000','e_RAJ2000','e_DEJ2000','Corr','Num') units=(None,'deg','deg',None,None,'\"h:m:s\"','\"d:m:s\"','mas','mas',None,None)>\n",
        "masked_array(data = [ (11, 290.644581, 15.502787, 'J1922+1530', '1920+154', '19 22 34.699349', '+15 30 10.03266', 1.2334, 1.1451, -0.006000000052154064, 53)\n",
        " (11, 291.164399, 15.678873, 'J1924+1540', '1922+155', '19 24 39.455874', '+15 40 43.94111', 0.573, 0.6869, -0.06239999830722809, 70)],\n",
        "             mask = [ (False, False, False, False, False, False, False, False, False, False, False)\n",
        " (False, False, False, False, False, False, False, False, False, False, False)],\n",
        "       fill_value = (999999, 1e+20, 1e+20, 'N/A', 'N/A', 'N/A', 'N/A', 1e+20, 1e+20, 1.0000000200408773e+20, 999999),\n",
        "            dtype = [('_q', '<i4'), ('_RAJ2000', '<f8'), ('_DEJ2000', '<f8'), ('VCS1', 'S10'), ('IVS', 'S10'), ('RAJ2000', 'S15'), ('DEJ2000', 'S15'), ('e_RAJ2000', '<f8'), ('e_DEJ2000', '<f8'), ('Corr', '<f4'), ('Num', '<i4')])"
       ]
      }
     ],
     "prompt_number": 40
    }
   ],
   "metadata": {}
  }
 ]
}